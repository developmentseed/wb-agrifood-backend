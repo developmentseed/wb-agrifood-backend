{
 "cells": [
  {
   "cell_type": "code",
   "execution_count": 2,
   "id": "31800f9c-6f14-45c2-9a92-a94e2bc37950",
   "metadata": {},
   "outputs": [],
   "source": [
    "import csv\n",
    "import json\n",
    "import os\n",
    "from tqdm import tqdm\n",
    "import tiktoken\n",
    "from openai import OpenAI\n",
    "import concurrent.futures\n",
    "import requests\n",
    "from dotenv import load_dotenv\n",
    "import os\n",
    "\n",
    "load_dotenv()\n",
    "\n",
    "youtube_api_key = os.environ[\"YOUTUBE_DATA_API_KEY\"]\n",
    "\n",
    "\"\"\"\n",
    "wb_ag_datasets.csv,\t\n",
    "wb_ag_projects.csv,\t\n",
    "wb_youtube_videos.json,\n",
    "wb_ag_ext_papers.csv,\n",
    "wb_ag_usecases.csv\n",
    "\"\"\"\n",
    "data = []"
   ]
  },
  {
   "cell_type": "markdown",
   "id": "2f5693fa",
   "metadata": {},
   "source": [
    "Process datasets file"
   ]
  },
  {
   "cell_type": "code",
   "execution_count": 3,
   "id": "d5b75e6c",
   "metadata": {},
   "outputs": [
    {
     "name": "stdout",
     "output_type": "stream",
     "text": [
      "[{'name': 'Subnational Poverty and Inequality Database (SPID)', 'description': 'This data entry includes subnational poverty direct estimates from household surveys over time for more than 141 economies at the administrative unit level 1. Administrative unit level 1 refers to the highest subnational unit level (examples include ‘state’, ‘governorate’, ‘province’) from household surveys.<br>In 2013, the World Bank announced the goals of fighting poverty in all its forms by 2030 and promoting shared prosperity. Despite a remarkable progress made on reducing poverty in recent years, reaching the targets remains challenging. The decline in poverty has been uneven. The poverty reduction in recent years was dominated by the East Asia and Pacific (notably China and Indonesia) and South Asia (notably India) (World Bank, 2017). Despite the progress made so far, the number of extreme poor remains high, especially in Sub-Saharan Africa. In many countries, vast differences in poverty levels persist at the subnational level. In addition, global problems such as climate change, fragility, economic crises and food security pose great risks for poverty reduction, and they are often trans-border issues, which generate strong positive or negative externalities across neighboring countries.', 'dataset_id': '64796', 'project_id': '', 'files': '[\"\\'name\\': \\'Global Subnational Poverty Shapefile (version 1)\\'\", \"\\'description\\': \\'<p>This shapefile (version 1) is used to link with the data based on the ID geo_code2.</p>\\', \\'url\\': null\", \"\\'name\\': \\'Subnational Poverty and Inequality Database (Multidimensional poverty part)\\'\", \"\\'description\\': \\'<p>This is the Subnational Poverty and Inequality Database (SPID) on Multidimensional poverty indicators.</p>\\', \\'url\\': \\'https://datacatalogfiles.worldbank.org/ddh-published/0064796/DR0092190/subnational-poverty-inequality-spid-MPM.xlsx?versionId=2023-09-11T14:24:14.9050463Z\\'\", \"\\'name\\': \\'Subnational Poverty and Inequality Database (Poverty and Inequality part)\\'\", \"\\'description\\': \\'<p>This is the Subnational Poverty and Inequality Database\", \"SPID. The data file is for the poverty and inequality indicators.</p>\\', \\'url\\': \\'https://datacatalogfiles.worldbank.org/ddh-published/0064796/DR0092191/subnational-poverty-inequality-spid-poverty.xlsx?versionId=2023-09-11T14:24:15.5456758Z\\'\", \"\\'name\\': \\'On the Construction of the World Bank\\\\\\\\u2019s Subnational Poverty and Inequality Databases (Documentation)\\'\", \"\\'description\\': \\'<p>In many countries\", \\'large differences in poverty persist at the subnational level. In addition\\', \\'global challenges such as climate change\\', \\'fragility\\', \\'economic crises\\', \\'and food insecurity are often trans-border issues that pose significant risks for poverty reduction both across and within countries. Traditional poverty measures are generally presented at the national level\\', \\'potentially obscuring local and regional variations of poverty and inequality. To overcome these challenges\\', \"this note describes the construction of two databases designed to provide a more granular perspective on poverty. The Subnational Poverty and Inequality Database (SPID) presents direct survey estimates of poverty and inequality from nationally representative household surveys over time. The Global Subnational Atlas of Poverty (GSAP) presents poverty estimates of survey-representative administrative areas projected to a common year. Both databases use the same underlying household survey data used by the World Bank to monitor global poverty.</p>\\', \\'url\\': null\", \"\\'name\\': \\'Global Subnational Poverty Shapefile (version 2)\\'\", \"\\'description\\': \\'<p>This shapefile (version 2) is used to link with the data based on the ID geo_code2_new.</p>\\', \\'url\\': null\"]'}, {'name': 'Harmonized Sub-National Food Security Data', 'description': 'FEWS NET produces food security classifications at the sub-national level, specifically at the intersection of livelihood zones and administrative uni<span style=\"color: black;\">ts. FEWS NET data is compatible with the Integrated Food Security Phase Classification protocol, but the data is produced independently from the IPC multi-partner consensus group.</span><span style=\"color: black;\">Because of the spatial mismatch between shapefiles across different timesteps in the FEWS NET data, the World Bank\\'s Data Group developed a process to merge food security data into consistent spatial units sourced from FEWS NET. </span>A spatial join was conducted to assign the mode (or majority) food security phase value to each administrative unit. <span style=\"color: black;\">This dataset contains IPC-compatible phases (current situation and projections) and population estimates, by sub-national area determined by FEWS NET.</span>The dataset covers all countries monitored by FEWS NET (roughly 20 countries), with assessments available since 2009 on a tri-annual basis. The DECSC unit provides support to update this dataset as soon as the source shapefiles are readily available. The dataset is available to the public and the original inputs are also publicly available through FEWS NET and the Gridded Population of the World (v4).', 'dataset_id': '64614', 'project_id': '', 'files': '[\"\\'name\\': \\'FEWS NET Admin Boundaries\\'\", \"\\'description\\': \\'<p class=\\\\\\\\\\'ql-align-justify\\\\\\\\\\'>Data from the FEWS NET Food Security Outlook reports is made available in geographic format on a country-by-country basis. Using these country files\", \"we assembled a global database of boundaries that represent the unit of analysis at which FEWS NET reports measures of food insecurity.</p><p class=\\\\\\\\\\'ql-align-justify\\\\\\\\\\'>FEWS NET produces food security classifications at the sub-national level\", \"specifically at the intersection of livelihood zones and administrative units.</p><p class=\\\\\\\\\\'ql-align-justify\\\\\\\\\\'>The tabular data can be joined to this shapefile using the <strong>admin_code </strong>unique identifier.</p>\\', \\'url\\': \\'https://datacatalogfiles.worldbank.org/ddh-published/0064614/DR0091744/FEWS%20NET%20Admin%20Boundaries.zip?versionId=2024-01-16T21:59:57.7624374Z\\'\", \"\\'name\\': \\'FEWS NET Food Security Tabular Dataset\\'\", \"\\'description\\': \\'<p>Tabular dataset with historical and current food security classification estimates sourced from FEWS NET. This dataset contains IPC-compatible values (current situation and projections) and population estimates\", \"by sub-national area. FEWS NET produces food security classifications at the intersection of livelihood zones and administrative units.</p><p>For more details on how the boundaries were assembled see the FEWS NET Admin Boundaries resource entry on this dataset.</p>\\', \\'url\\': \\'https://datacatalogfiles.worldbank.org/ddh-published/0064614/DR0091743/FEWS%20October%202023%20Update%20TrueBoundaries_01-16-24.csv?versionId=2024-01-16T21:59:59.9611814Z\\'\", \"\\'name\\': \\'Additional Metadata for Tabular Dataset\\'\", \"\\'description\\': \\'<p>Column descriptions for FEWS NET Food Security Tabular Dataset.</p>\\', \\'url\\': \\'https://datacatalogfiles.worldbank.org/ddh-published/0064614/DR0091811/Column%20Descriptions.xlsx?versionId=2024-01-16T22:00:08.0995371Z\\'\"]'}, {'name': 'Central Asia Flood vulnerability curves - crops', 'description': 'Central Asia Flood vulnerability curves - crops. Developed as part of the Strengthening Financial Resilience and Accelerating Risk Reduction in Central Asia program. (<a href=\"https://www.gfdrr.org/en/program/SFRARR-Central-Asia\" rel=\"noopener noreferrer\" target=\"_blank\">https://www.gfdrr.org/en/program/SFRARR-Central-Asia</a>)', 'dataset_id': '64241', 'project_id': 'P168309', 'files': '[\"\\'name\\': \\'Crop vulnerability curves\\'\", \"\\'description\\': \\'all curves provided here are vulnerability curves (not fragility curves)\\', \\'url\\': \\'https://datacatalogfiles.worldbank.org/ddh-published/0064241/DR0091005/crops_vulnerability_curves.csv?versionId=2023-07-21T17:17:07.8029312Z\\'\"]'}]\n",
      "dict_keys(['name', 'description', 'dataset_id', 'project_id', 'files'])\n",
      "[<class 'str'>, <class 'str'>, <class 'str'>, <class 'str'>, <class 'str'>]\n",
      "[\"'name': 'Global Subnational Poverty Shapefile (version 1)'\", \"'description': '<p>This shapefile (version 1) is used to link with the data based on the ID geo_code2.</p>', 'url': null\", \"'name': 'Subnational Poverty and Inequality Database (Multidimensional poverty part)'\", \"'description': '<p>This is the Subnational Poverty and Inequality Database (SPID) on Multidimensional poverty indicators.</p>', 'url': 'https://datacatalogfiles.worldbank.org/ddh-published/0064796/DR0092190/subnational-poverty-inequality-spid-MPM.xlsx?versionId=2023-09-11T14:24:14.9050463Z'\", \"'name': 'Subnational Poverty and Inequality Database (Poverty and Inequality part)'\", \"'description': '<p>This is the Subnational Poverty and Inequality Database\", \"SPID. The data file is for the poverty and inequality indicators.</p>', 'url': 'https://datacatalogfiles.worldbank.org/ddh-published/0064796/DR0092191/subnational-poverty-inequality-spid-poverty.xlsx?versionId=2023-09-11T14:24:15.5456758Z'\", \"'name': 'On the Construction of the World Bank\\\\u2019s Subnational Poverty and Inequality Databases (Documentation)'\", \"'description': '<p>In many countries\", 'large differences in poverty persist at the subnational level. In addition', 'global challenges such as climate change', 'fragility', 'economic crises', 'and food insecurity are often trans-border issues that pose significant risks for poverty reduction both across and within countries. Traditional poverty measures are generally presented at the national level', 'potentially obscuring local and regional variations of poverty and inequality. To overcome these challenges', \"this note describes the construction of two databases designed to provide a more granular perspective on poverty. The Subnational Poverty and Inequality Database (SPID) presents direct survey estimates of poverty and inequality from nationally representative household surveys over time. The Global Subnational Atlas of Poverty (GSAP) presents poverty estimates of survey-representative administrative areas projected to a common year. Both databases use the same underlying household survey data used by the World Bank to monitor global poverty.</p>', 'url': null\", \"'name': 'Global Subnational Poverty Shapefile (version 2)'\", \"'description': '<p>This shapefile (version 2) is used to link with the data based on the ID geo_code2_new.</p>', 'url': null\"]\n"
     ]
    }
   ],
   "source": [
    "with open(\"../../data/wb_ag_datasets.csv\", \"r\") as f:\n",
    "    datasets = [r for r in csv.DictReader(f)]\n",
    "\n",
    "print(datasets[0:3])\n",
    "print(datasets[0].keys())\n",
    "print([type(v) for v in datasets[0].values()])\n",
    "print(datasets[0][\"files\"])\n",
    "\n",
    "datasets = [{ **d, \"id\": d[\"dataset_id\"], \"type\": \"dataset\", \"title\": d[\"name\"]} for d in datasets]\n",
    "\n",
    "data.extend(datasets)"
   ]
  },
  {
   "cell_type": "code",
   "execution_count": 4,
   "id": "3ceec3c4",
   "metadata": {},
   "outputs": [
    {
     "name": "stdout",
     "output_type": "stream",
     "text": [
      "[{'id': 'P149827', 'project': 'BF REDD+ Readiness Preparation', 'implementer': \"Programme d'Investissement Forestier - Coordination Nationale\", 'region': 'Western and Central Africa', 'country': 'Burkina Faso', 'documents': '[\"\\'Auditing Document\\': \\'http://documents.worldbank.org/curated/en/099081723082536082/pdf/P1498270c1377d0940a4f609eb0bb65ed60.pdf\\'\", \"\\'Procurement Plan\\': \\'http://documents.worldbank.org/curated/en/099143002072310138/pdf/P1498270780df40450a1750b0790a799001.pdf\\'\"]', 'sectors': \"['Public Administration - Agriculture, Fishing & Forestry', 'Other Agriculture, Fishing and Forestry', 'Forestry']\", 'years': \"['2025']\", 'contacts': \"['Mirko Ivo Serkovic', 'Yasmina Oodally']\"}, {'id': 'P180732', 'project': 'Ukraine Agriculture Recovery Inclusive Support Emergency (ARISE) Project', 'implementer': 'Ministry of Agrarian Policy and Food, Business Development Fund', 'region': 'Europe and Central Asia', 'country': 'Ukraine', 'documents': '[\"\\'Environmental and Social Commitment Plan\\': \\'http://documents.worldbank.org/curated/en/099101323081517746/pdf/P1807320b55dce08094c805edd1c25d291.pdf\\'\", \"\\'Project Appraisal Document\\': \\'http://documents.worldbank.org/curated/en/099101923095537231/pdf/BOSIB0ba93e6360030a1f50cd2b8325e6e5.pdf\\'\", \"\\'Loan Agreement\\': \\'http://documents.worldbank.org/curated/en/099110823104018617/pdf/P180732029a3570450a99a0bd5c5b50c75e.pdf\\'\", \"\\'Disbursement Letter\\': \\'http://documents.worldbank.org/curated/en/099012224102528602/pdf/P1807321506d0708c1bfaa1a4e9704ee164.pdf\\'\", \"\\'Grant or Trust Fund Agreement\\': \\'http://documents.worldbank.org/curated/en/099110823104512771/pdf/P18073205291e4085082aa0f5beef254bd0.pdf\\'\", \"\\'Minutes\\': \\'http://documents.worldbank.org/curated/en/099111423164011650/pdf/BOSIB086de382c0e608db20aeb697ce1ee6.pdf\\'\", \"\\'Letter\\': \\'http://documents.worldbank.org/curated/en/099121923092528294/pdf/P1807320a5970509a0b66a0d45aa616f92a.pdf\\'\"]', 'sectors': \"['Agricultural Extension, Research, and Other Support Activities']\", 'years': \"['2023', '2024', '2025']\", 'contacts': \"['Sergiy Zorya', 'Johanna Jaeger']\"}, {'id': 'P179737', 'project': 'Improvement and Rehabilitation of Irrigation Systems Project', 'implementer': 'Ministry of Agriculture, Forestry and Rural Development', 'region': 'Europe and Central Asia', 'country': 'Kosovo', 'documents': '[\"\\'Stakeholder Engagement Plan\\': \\'http://documents.worldbank.org/curated/en/099051723103015585/pdf/P1797370c653fc080be4e0cabce02fcd4a.pdf\\'\", \"\\'Environmental and Social Commitment Plan\\': \\'http://documents.worldbank.org/curated/en/099101123074510796/pdf/P17973709ae3a0080875602af28aa4c916.pdf\\'\", \"\\'Environmental and Social Review Summary\\': \\'http://documents.worldbank.org/curated/en/099051723103039754/pdf/P1797371568ccddf1f9f31491019f201d207da279335.pdf\\'\", \"\\'Project Information Document\\': \\'http://documents.worldbank.org/curated/en/099052623064025693/pdf/P1797370da7c5a0a0be910df3cce257c8c.pdf\\'\", \"\\'Project Appraisal Document\\': \\'http://documents.worldbank.org/curated/en/099101223183043766/pdf/P17973703f16620f0b0fa04bc87d65dfb8.pdf\\'\", \"\\'Disbursement Letter\\': \\'http://documents.worldbank.org/curated/en/099101323082514250/pdf/P179737043644c0de093410f1c6eaa1e716.pdf\\'\", \"\\'Grant or Trust Fund Agreement\\': \\'http://documents.worldbank.org/curated/en/099101323082081067/pdf/P1797370c0b9d30d9094640ded1e3040475.pdf\\'\", \"\\'Implementation Status and Results Report\\': \\'http://documents.worldbank.org/curated/en/099011624182514585/pdf/P1797371f41dd108b1b0c71c43b4f70f838.pdf\\'\"]', 'sectors': \"['Public Administration - Agriculture, Fishing & Forestry', 'Irrigation and Drainage']\", 'years': \"['2023']\", 'contacts': \"['Teklu Tesfaye Toli', 'Trandelina Baraku', 'Xueling Li']\"}]\n",
      "dict_keys(['id', 'project', 'implementer', 'region', 'country', 'documents', 'sectors', 'years', 'contacts'])\n",
      "[<class 'str'>, <class 'str'>, <class 'str'>, <class 'str'>, <class 'str'>, <class 'str'>, <class 'str'>, <class 'str'>, <class 'str'>]\n",
      "[\"'Auditing Document': 'http://documents.worldbank.org/curated/en/099081723082536082/pdf/P1498270c1377d0940a4f609eb0bb65ed60.pdf'\", \"'Procurement Plan': 'http://documents.worldbank.org/curated/en/099143002072310138/pdf/P1498270780df40450a1750b0790a799001.pdf'\"]\n"
     ]
    }
   ],
   "source": [
    "with open(\"../../data/wb_ag_projects.csv\", \"r\") as f:\n",
    "    projects = [r for r in csv.DictReader(f)]\n",
    "\n",
    "print(projects[0:3])\n",
    "print(projects[0].keys())\n",
    "print([type(v) for v in projects[0].values()])\n",
    "print(projects[0][\"documents\"])\n",
    "\n",
    "projects = [{**p, \"type\": \"project\", \"title\":p[\"project\"]} for p in projects]\n",
    "data.extend(projects)"
   ]
  },
  {
   "cell_type": "code",
   "execution_count": 5,
   "id": "205ced89",
   "metadata": {},
   "outputs": [
    {
     "name": "stdout",
     "output_type": "stream",
     "text": [
      "[{'id': '166128', 'document': 'Empowering Women Farmers : Evidence from a RandomizedControl Trial in Mozambique', 'abstract': 'These results show how a psychological mindset training targeted to women farmers can lead to greater investment and entrepreneurship, helping their households transition out of subsistence farming and into market-oriented agriculture and off-farm businesses. The results also suggest the promise of psychology to improve the design and effectiveness of standard agricultural extension programs, showing the importance of teaching not only best production technologies and practices, but also developing an entrepreneurial mindset.', 'date': '16-Nov-21', 'type': 'Working Paper', 'authors': \"['Montalvao Machado', 'Joao H. C.']\", 'sectors': \"['Crops and Crop Management Systems', 'Agricultural Extension', 'Climate Change and Agriculture', 'Private Sector Development Law', 'Marketing', 'Private Sector Economics', 'Labor Markets']\", 'implementer': 'Gender Impact Evaluation (AFEGI)', 'url': 'http://documents.worldbank.org/curated/en/655441637126744572/pdf/Empowering-Women-Farmers-Evidence-from-a-Randomized-Control-Trial-in-Mozambique.pdf'}, {'id': 'WPS9840', 'document': 'Knowledge and Adoption of Complex Agricultural Technologies : Evidence from an Extension Experiment', 'abstract': 'In most of Sub-Saharan Africa, agricultural extension models have become more decentralized and participatory and thus, rely on effective farmer-to-farmer learning, while increasingly including non-traditional forms of education. At the same time, agricultural technologies become more complex and are now often promoted as integrated packages, likely to increase the complexity of the diffusion process. Based on a randomized controlled trial, this study assesses the effects of ‘farmer-to-farmer’ extension and a video intervention on adoption of a complex technology package among 2,382 smallholders in Ethiopia. Both extension-only and extension combined with video increase adoption and knowledge of the package, especially of its more complex components; although on average, there is no additional effect of the video intervention on adoption. Knowledge and the number of adopted practices also increase among farmers not actively participating in extension activities, suggesting information diffusion. For this group, the additional video intervention has a reinforcing effect, and particularly fosters adoption of the integrated package.', 'date': '5-Nov-21', 'type': 'Policy Research Working Paper', 'authors': \"['Hörner', 'Denise', 'Bouguen', 'Adrien', 'Frölich', 'Markus', 'Wollni', 'Meike']\", 'sectors': \"['Nonmetallic Mineral Product Manufacturing', 'Climate Change and Agriculture', 'Crops and Crop Management Systems', 'Agricultural Extension', 'Fertilizers']\", 'implementer': 'Off of Sr VP Dev Econ/Chief Econ (DECVP)', 'url': 'http://documents.worldbank.org/curated/en/362861636121745084/pdf/Knowledge-and-Adoption-of-Complex-Agricultural-Technologies-Evidence-from-an-Extension-Experiment.pdf'}, {'id': 'WPS9532', 'document': 'The Demand for Advice : Theory and Empirical Evidence from Farmers in Sub-Saharan Africa', 'abstract': 'Low levels of investment into modern technologies, and limited use of measures that have low monetary cost but the potential for high yields, are often regarded as obstacles to further agricultural development. This paper investigates farmers’ demand for one such measure, namely agricultural advisory services. These have modest (most frequently zero) monetary user cost but, according to some recent research, have the potential to result in large increases of yields. Yet, demand for these extension services is often low. This study proposes that costly attention may be part of the explanation for this. In the model, advisory services are available free of charge, but positive effects on production are only realized if farmers devote attention to listening to and implementing the provided advice. Modeling farmers as rational decision makers facing scarce attention, the study identifies the circumstances under which farmers may optimally abstain from demanding advisory services. The model complements the insights of other theories commonly used to explain suboptimal farm decisions and outcomes, and generates testable predictions, which are consistent with empirical evidence based on a large farm-level panel dataset from Sub-Saharan Africa.', 'date': '2-Feb-21', 'type': 'Policy Research Working Paper', 'authors': \"['Naeher', 'Dominik', 'Schundeln', 'Matthias']\", 'sectors': \"['Food Security', 'Agricultural Extension', 'Crops and Crop Management Systems', 'Climate Change and Agriculture', 'Inequality', 'Information Technology', 'Livestock and Animal Husbandry']\", 'implementer': 'Off of Sr VP Dev Econ/Chief Econ (DECVP)', 'url': 'http://documents.worldbank.org/curated/en/885441612294787514/pdf/The-Demand-for-Advice-Theory-and-Empirical-Evidence-from-Farmers-in-Sub-Saharan-Africa.pdf'}]\n",
      "dict_keys(['id', 'document', 'abstract', 'date', 'type', 'authors', 'sectors', 'implementer', 'url'])\n",
      "[<class 'str'>, <class 'str'>, <class 'str'>, <class 'str'>, <class 'str'>, <class 'str'>, <class 'str'>, <class 'str'>, <class 'str'>]\n",
      "Empowering Women Farmers : Evidence from a RandomizedControl Trial in Mozambique\n"
     ]
    }
   ],
   "source": [
    "with open(\"../../data/wb_ag_ext_papers.csv\", \"r\") as f:\n",
    "    papers = [r for r in csv.DictReader(f)]\n",
    "\n",
    "print(papers[0:3])\n",
    "print(papers[0].keys())\n",
    "print([type(v) for v in papers[0].values()])\n",
    "print(papers[0][\"document\"]) # Title\n",
    "\n",
    "papers = [{**p, \"title\": p[\"document\"], \"type\":\"paper\"} for p in papers]\n",
    "data.extend(papers)"
   ]
  },
  {
   "cell_type": "code",
   "execution_count": 6,
   "id": "fa97b922",
   "metadata": {
    "scrolled": true
   },
   "outputs": [
    {
     "name": "stdout",
     "output_type": "stream",
     "text": [
      "[{'id': 'P180732', 'use_case': 'Accessible Agricultural Financing', 'project': 'Ukraine Agriculture Recovery Inclusive Support Emergency (ARISE) Project', 'description': 'This use case example reflects a strategic implementation of accessible financial support mechanisms to bolster agricultural productivity in the face of adversity. In the context of the Ukraine Agriculture Recovery Inclusive Support Emergency (ARISE) Project, financial accessibility was addressed through a two-pronged approach aimed at enhancing the resilience and sustainability of the agricultural sector amidst significant challenges, including conflict and natural or man-made disasters. Firstly, affordable credit was made available to farms, facilitating capital investment and operational continuity. This component targeted the broader agricultural ecosystem, ensuring entities of varying sizes could access the financial resources necessary for recovery and future growth. Secondly, the project instituted a grant system specifically tailored for small farms, recognizing the disproportionate impact of crises on smaller scale operators and the vital role these entities play in local food security and rural economies. Both methods were instrumented through the Business Development Fund and the Ministry of Agrarian Policy and Food, ensuring tailored, effective deployment of resources. This dual approach not only aimed at immediate recovery needs but also at fostering a more resilient agricultural infrastructure capable of withstanding future crises, thereby contributing to the broader objective of maintaining inclusive agricultural production.', 'implementer': 'Ministry of Agrarian Policy and Food, Business Development Fund', 'region': 'Europe and Central Asia', 'country': 'Ukraine', 'documents': '[\"\\'Environmental and Social Commitment Plan\\': \\'http://documents.worldbank.org/curated/en/099101323081517746/pdf/P1807320b55dce08094c805edd1c25d291.pdf\\'\", \"\\'Project Appraisal Document\\': \\'http://documents.worldbank.org/curated/en/099101923095537231/pdf/BOSIB0ba93e6360030a1f50cd2b8325e6e5.pdf\\'\", \"\\'Loan Agreement\\': \\'http://documents.worldbank.org/curated/en/099110823104018617/pdf/P180732029a3570450a99a0bd5c5b50c75e.pdf\\'\", \"\\'Disbursement Letter\\': \\'http://documents.worldbank.org/curated/en/099012224102528602/pdf/P1807321506d0708c1bfaa1a4e9704ee164.pdf\\'\", \"\\'Grant or Trust Fund Agreement\\': \\'http://documents.worldbank.org/curated/en/099110823104512771/pdf/P18073205291e4085082aa0f5beef254bd0.pdf\\'\", \"\\'Minutes\\': \\'http://documents.worldbank.org/curated/en/099111423164011650/pdf/BOSIB086de382c0e608db20aeb697ce1ee6.pdf\\'\", \"\\'Letter\\': \\'http://documents.worldbank.org/curated/en/099121923092528294/pdf/P1807320a5970509a0b66a0d45aa616f92a.pdf\\'\"]', 'sectors': \"['Agricultural Extension, Research, and Other Support Activities']\", 'years': \"['2023', '2024', '2025']\", 'contacts': \"['Sergiy Zorya', 'Johanna Jaeger']\"}, {'id': 'P179737', 'use_case': 'Modernizing Irrigation with RDIS', 'project': 'Improvement and Rehabilitation of Irrigation Systems Project', 'description': 'This use case example revolves around the comprehensive rehabilitation and modernization of the Radoniqi-Dukagjini Irrigation Scheme (RDIS), through a focused investment of EUR 8.35 million aimed at enhancing agricultural productivity and reducing operational inefficiencies. In the context of aims to bolster rural economic development in Kosovo, the initiative sought to improve and modernize irrigation services to diminish water losses and production costs, and foster the introduction of higher value crops within project locales. Specifically, the RDIS operates two distinct irrigation frameworks - the Radoniqi scheme, fed by the Radoniqi dam with its seven irrigation sub-systems, and the Dukagjini scheme, with its six sub-irrigation systems. Through sub-components like rehabilitation work to modernize and upgrade the RDIS and the employment of a Supervisory Control and Data Acquisition (SCADA) system, this method illustrates an innovative approach to enhance water use efficiency and ensure the sustainability of the irrigation infrastructure.', 'implementer': 'Ministry of Agriculture, Forestry and Rural Development', 'region': 'Europe and Central Asia', 'country': 'Kosovo', 'documents': '[\"\\'Stakeholder Engagement Plan\\': \\'http://documents.worldbank.org/curated/en/099051723103015585/pdf/P1797370c653fc080be4e0cabce02fcd4a.pdf\\'\", \"\\'Environmental and Social Commitment Plan\\': \\'http://documents.worldbank.org/curated/en/099101123074510796/pdf/P17973709ae3a0080875602af28aa4c916.pdf\\'\", \"\\'Environmental and Social Review Summary\\': \\'http://documents.worldbank.org/curated/en/099051723103039754/pdf/P1797371568ccddf1f9f31491019f201d207da279335.pdf\\'\", \"\\'Project Information Document\\': \\'http://documents.worldbank.org/curated/en/099052623064025693/pdf/P1797370da7c5a0a0be910df3cce257c8c.pdf\\'\", \"\\'Project Appraisal Document\\': \\'http://documents.worldbank.org/curated/en/099101223183043766/pdf/P17973703f16620f0b0fa04bc87d65dfb8.pdf\\'\", \"\\'Disbursement Letter\\': \\'http://documents.worldbank.org/curated/en/099101323082514250/pdf/P179737043644c0de093410f1c6eaa1e716.pdf\\'\", \"\\'Grant or Trust Fund Agreement\\': \\'http://documents.worldbank.org/curated/en/099101323082081067/pdf/P1797370c0b9d30d9094640ded1e3040475.pdf\\'\", \"\\'Implementation Status and Results Report\\': \\'http://documents.worldbank.org/curated/en/099011624182514585/pdf/P1797371f41dd108b1b0c71c43b4f70f838.pdf\\'\"]', 'sectors': \"['Public Administration - Agriculture, Fishing & Forestry', 'Irrigation and Drainage']\", 'years': \"['2023']\", 'contacts': \"['Teklu Tesfaye Toli', 'Trandelina Baraku', 'Xueling Li']\"}, {'id': 'P179737', 'use_case': 'Capacity Building for Water Efficiency', 'project': 'Improvement and Rehabilitation of Irrigation Systems Project', 'description': 'This use case showcases a strategic intervention aimed at bolstering water use efficiency and agricultural productivity through capacity building, with a dedicated fund of EUR 0.4 million. In the context of supporting the infrastructure investments made under component 1 of the project, the initiative emphasized enhancing the capabilities of various stakeholders including the Ministry of Agriculture, Forestry, and Rural Development (MAFRD), municipalities, irrigation providers, and farmers. The methods encompassed offering technical assistance for better corporate governance among irrigation providers, introducing farmers to modern on-farm irrigation technologies and beneficial practices, and promoting efficient water management. Additionally, the project facilitated knowledge exchange through study tours and site visits, allowing stakeholders to learn from advanced irrigation practices globally. This holistic approach not only aimed at improving water utilization efficiency but also sought to uplift the overall agricultural output in the project area by equipping stakeholders with the requisite knowledge and tools.', 'implementer': 'Ministry of Agriculture, Forestry and Rural Development', 'region': 'Europe and Central Asia', 'country': 'Kosovo', 'documents': '[\"\\'Stakeholder Engagement Plan\\': \\'http://documents.worldbank.org/curated/en/099051723103015585/pdf/P1797370c653fc080be4e0cabce02fcd4a.pdf\\'\", \"\\'Environmental and Social Commitment Plan\\': \\'http://documents.worldbank.org/curated/en/099101123074510796/pdf/P17973709ae3a0080875602af28aa4c916.pdf\\'\", \"\\'Environmental and Social Review Summary\\': \\'http://documents.worldbank.org/curated/en/099051723103039754/pdf/P1797371568ccddf1f9f31491019f201d207da279335.pdf\\'\", \"\\'Project Information Document\\': \\'http://documents.worldbank.org/curated/en/099052623064025693/pdf/P1797370da7c5a0a0be910df3cce257c8c.pdf\\'\", \"\\'Project Appraisal Document\\': \\'http://documents.worldbank.org/curated/en/099101223183043766/pdf/P17973703f16620f0b0fa04bc87d65dfb8.pdf\\'\", \"\\'Disbursement Letter\\': \\'http://documents.worldbank.org/curated/en/099101323082514250/pdf/P179737043644c0de093410f1c6eaa1e716.pdf\\'\", \"\\'Grant or Trust Fund Agreement\\': \\'http://documents.worldbank.org/curated/en/099101323082081067/pdf/P1797370c0b9d30d9094640ded1e3040475.pdf\\'\", \"\\'Implementation Status and Results Report\\': \\'http://documents.worldbank.org/curated/en/099011624182514585/pdf/P1797371f41dd108b1b0c71c43b4f70f838.pdf\\'\"]', 'sectors': \"['Public Administration - Agriculture, Fishing & Forestry', 'Irrigation and Drainage']\", 'years': \"['2023']\", 'contacts': \"['Teklu Tesfaye Toli', 'Trandelina Baraku', 'Xueling Li']\"}]\n",
      "dict_keys(['id', 'use_case', 'project', 'description', 'implementer', 'region', 'country', 'documents', 'sectors', 'years', 'contacts'])\n",
      "[<class 'str'>, <class 'str'>, <class 'str'>, <class 'str'>, <class 'str'>, <class 'str'>, <class 'str'>, <class 'str'>, <class 'str'>, <class 'str'>, <class 'str'>]\n",
      "[\"'Environmental and Social Commitment Plan': 'http://documents.worldbank.org/curated/en/099101323081517746/pdf/P1807320b55dce08094c805edd1c25d291.pdf'\", \"'Project Appraisal Document': 'http://documents.worldbank.org/curated/en/099101923095537231/pdf/BOSIB0ba93e6360030a1f50cd2b8325e6e5.pdf'\", \"'Loan Agreement': 'http://documents.worldbank.org/curated/en/099110823104018617/pdf/P180732029a3570450a99a0bd5c5b50c75e.pdf'\", \"'Disbursement Letter': 'http://documents.worldbank.org/curated/en/099012224102528602/pdf/P1807321506d0708c1bfaa1a4e9704ee164.pdf'\", \"'Grant or Trust Fund Agreement': 'http://documents.worldbank.org/curated/en/099110823104512771/pdf/P18073205291e4085082aa0f5beef254bd0.pdf'\", \"'Minutes': 'http://documents.worldbank.org/curated/en/099111423164011650/pdf/BOSIB086de382c0e608db20aeb697ce1ee6.pdf'\", \"'Letter': 'http://documents.worldbank.org/curated/en/099121923092528294/pdf/P1807320a5970509a0b66a0d45aa616f92a.pdf'\"]\n"
     ]
    }
   ],
   "source": [
    "with open(\"../../data/wb_ag_usecases.csv\", \"r\") as f:\n",
    "    usecases = [r for r in csv.DictReader(f)]\n",
    "\n",
    "print(usecases[0:3])\n",
    "print(usecases[0].keys())\n",
    "print([type(v) for v in usecases[0].values()])\n",
    "print(usecases[0][\"documents\"])\n",
    "\n",
    "usecases = [{**u, \"title\":u[\"use_case\"], \"type\": \"usecase\"} for u in usecases]\n",
    "data.extend(usecases)   "
   ]
  },
  {
   "cell_type": "code",
   "execution_count": 7,
   "id": "09f5b6c9-65d9-41f5-b824-8ad9f804e982",
   "metadata": {},
   "outputs": [],
   "source": [
    "# Create mapping to store video titles (since several/many snippets may come from the same video)\n",
    "video_id_to_title = {}"
   ]
  },
  {
   "cell_type": "code",
   "execution_count": 8,
   "id": "81f46187",
   "metadata": {},
   "outputs": [
    {
     "name": "stdout",
     "output_type": "stream",
     "text": [
      "[{'link': 'https://www.youtube.com/watch?v=g-0XrjMYUBo&t=13s', 'excerpt': \"Srimathi Sridhar: Hello everyone, and welcome\\nback to The Development Podcast from the World Bank. I'm Srimathi Sridhar, coming to you from Washington,\\nDC. This is the first of some very special episodes\\nwe've got for you here, where we're exploring how to end poverty on a livable planet, and\\nwhat a livable planet really means. Today, we'll be turning our attention to climate\\nchange. And as I speak to you, the 28th UN Climate\\nSummit, or COP28, is already underway. The focus there is on cutting emissions, adaptation,\\nand solutions that can address the challenges of a world that is warming far too quickly. We'll hear about the urgent need for climate\\naction from the Prime Minister of the Pacific Island Nation of Samoa. Fiamē Naomi Mata'Afa: We know what the challenge\\nis. We know the targets that we need to reach\\nif we are to survive. Srimathi Sridhar: From youth activists urging\\nthe international community to ensure a livable planet for their future. Brianna Fruean: I felt like I was blessed\\nto grow up in paradise, and a very big problem that I felt was about to take away this paradise\\nfor me was climate change. Srimathi Sridhar: We'll get the big picture\\nfrom the UN. Inger Andersen: If we look at 10% of the highest\\nincome population, they are responsible for 48% of all emissions. The bottom 50% of the world population, they\\nare responsible for just 12% of emissions.\", 'summary': \"A video on the World Bank's YouTube channel detailing the impact of the climate crisis and urgent solutions to address it, featuring voices from Samoa, UNEP, and the World Bank. #climatecrisis #climatechange\"}, {'link': 'https://www.youtube.com/watch?v=g-0XrjMYUBo&t=80s', 'excerpt': \"Srimathi Sridhar: We'll get the big picture\\nfrom the UN. Inger Andersen: If we look at 10% of the highest\\nincome population, they are responsible for 48% of all emissions. The bottom 50% of the world population, they\\nare responsible for just 12% of emissions. So, we have a lot of work to do. Srimathi Sridhar: And we'll hear how the World\\nBank is tackling climate change head on. Anna Bjerde: What gives me hope is that I\\nfeel that we know what the solutions are. We need to double down on them, accelerate\\nthem, push them, support them. Srimathi Sridhar: All that and more, coming\\nup in The Development Podcast's special limited series on a livable planet. The climate crisis is about as urgent as a\\nglobal issue can be. This year's COP summit in Dubai comes off\\nthe back of the hottest year on record, where forest fires, droughts, extreme weather and\\nflooding became news day after day. The 2015 Paris Agreement target to limit global\\ntemperature increases to 1.5 degrees is a key benchmark. COP28 will see the first stock take of global\\nclimate action and the Paris Agreement. Climate change increases instability, conflict,\\nhunger and threatens lives, livelihoods and biodiversity. It also disproportionately impacts the world's\\npoor. For young people, especially those in parts\\nof the world where climate change has a very\", 'summary': \"A video on the World Bank's YouTube channel detailing the impact of the climate crisis and urgent solutions to address it, featuring voices from Samoa, UNEP, and the World Bank. #climatecrisis #climatechange\"}, {'link': 'https://www.youtube.com/watch?v=g-0XrjMYUBo&t=157s', 'excerpt': \"Climate change increases instability, conflict,\\nhunger and threatens lives, livelihoods and biodiversity. It also disproportionately impacts the world's\\npoor. For young people, especially those in parts\\nof the world where climate change has a very visceral effect, the crisis is something they\\nhave grown up with, and many as our producer, Sarah Treanor found out, are using their voice\\nto call for action. Sarah Treanor: Pacific Island nations have\\nbeen at the sharp edge of climate change for years, with rising sea levels, extreme weather\\nand coastal erosion, to name but a few of the urgent challenges facing this group of\\nsmall countries. For many young people, job prospects too have\\nbeen impacted by the climate crisis. So, I spoke to one young activist who has\\nbeen raising her voice on the issues facing her home country of Samoa since she was a\\nsmall child. Brianna Fruean: [foreign language]. My name is [foreign language] Brianna Fruean. So, [foreign language] is my Samoan chiefly\\nname, and I do climate work. Sarah Treanor: I asked Brianna to describe\\nto me a sense of what it was like growing up. Brianna Fruean: Picture perfect, picturesque,\\nclear waters, white sandy beaches, type beach you see in a postcard. I was always surrounded by waterfalls and\\nlush gardens and forests growing up.\", 'summary': \"A video on the World Bank's YouTube channel detailing the impact of the climate crisis and urgent solutions to address it, featuring voices from Samoa, UNEP, and the World Bank. #climatecrisis #climatechange\"}]\n",
      "dict_keys(['link', 'excerpt', 'summary'])\n",
      "[<class 'str'>, <class 'str'>, <class 'str'>]\n"
     ]
    },
    {
     "name": "stderr",
     "output_type": "stream",
     "text": [
      "100%|██████████| 944/944 [00:09<00:00, 97.97it/s] \n"
     ]
    }
   ],
   "source": [
    "with open(\"../../data/wb_youtube_videos.json\", \"r\") as f:\n",
    "    videos = json.load(f)\n",
    "\n",
    "print(videos[0:3])\n",
    "print(videos[0].keys())\n",
    "print([type(v) for v in videos[0].values()])\n",
    "\n",
    "videos = [{\n",
    "    \"video_id\": v[\"link\"].replace(\"https://www.youtube.com/watch?v=\", \"\").split(\"&\")[0],\n",
    "    \"timestamp\": v[\"link\"].replace(\"https://www.youtube.com/watch?v=\", \"\").split(\"&\")[1].replace(\"t=\", \"\")[:-1],\n",
    "    \"id\": v[\"link\"].replace(\"https://www.youtube.com/watch?v=\", \"\").replace(\"&t=\", \"_\")[:-1],\n",
    "    \"type\": \"video\",\n",
    "    **v} for v in videos]\n",
    "\n",
    "for v in tqdm(videos): \n",
    "    if not video_id_to_title.get(v[\"video_id\"]):     \n",
    "        r = requests.get(f\"https://www.googleapis.com/youtube/v3/videos?part=snippet&id={v['video_id']}&key={youtube_api_key}\")\n",
    "        if not r.json()[\"items\"]: \n",
    "            video_id_to_title[v[\"video_id\"]] = \"VIDEO NO LONGER AVAILABLE\"\n",
    "        else:\n",
    "            video_id_to_title[v[\"video_id\"]] = r.json()[\"items\"][0][\"snippet\"][\"title\"]\n",
    "    v[\"title\"] = video_id_to_title[v[\"video_id\"]]\n",
    "\n",
    "data.extend(videos)\n",
    " "
   ]
  },
  {
   "cell_type": "code",
   "execution_count": 9,
   "id": "d066f5ce-9fa3-48bb-8c28-b50de5e54baa",
   "metadata": {},
   "outputs": [
    {
     "name": "stderr",
     "output_type": "stream",
     "text": [
      "100%|██████████| 2348/2348 [01:06<00:00, 35.45it/s]\n"
     ]
    }
   ],
   "source": [
    "client = OpenAI(api_key=os.environ[\"OPENAI_API_KEY\"])\n",
    "\n",
    "def get_text_to_embed(d: dict):\n",
    "    return \"\\n \".join([f\"{key}: {value}\" for key, value in d.items() if value is not None])\n",
    "\n",
    "def get_tokens(text: str):\n",
    "    text = text.replace(\"\\n\", \" \")\n",
    "    encoding = tiktoken.get_encoding(\"cl100k_base\")\n",
    "    return encoding.encode(text)\n",
    "\n",
    "\n",
    "def get_embedding(tokens: list):\n",
    "    \n",
    "    if len(tokens) > 8191:\n",
    "        print(\"WARNING: Token length execeeds 8191 tokens, truncating to 8191 tokens\")\n",
    "        tokens = tokens[:8191]\n",
    "\n",
    "    return (\n",
    "        client.embeddings.create(input=tokens, model=\"text-embedding-3-small\")\n",
    "        .data[0]\n",
    "        .embedding\n",
    "    )\n",
    "\n",
    "with concurrent.futures.ThreadPoolExecutor(max_workers=10) as executor:\n",
    "    embeddings = list(\n",
    "        tqdm(\n",
    "            executor.map(\n",
    "                lambda d: get_embedding(get_tokens(get_text_to_embed(d))), \n",
    "                data\n",
    "            ), \n",
    "            total=len(data) # sets total length of progressbar\n",
    "        )\n",
    "    ) "
   ]
  },
  {
   "cell_type": "code",
   "execution_count": 12,
   "id": "e22fad32-61c6-46c8-bc89-01929d901d4b",
   "metadata": {},
   "outputs": [],
   "source": [
    "data = [{**d, \"embedding\": embedding} for d, embedding in zip(data, embeddings)]"
   ]
  },
  {
   "cell_type": "code",
   "execution_count": 13,
   "id": "0a11572e",
   "metadata": {},
   "outputs": [],
   "source": [
    "# Standardize keys\n",
    "key_set = set()\n",
    "for d in data: \n",
    "    key_set.update(set(d.keys()))    \n",
    "data = [{**{k:None for k in key_set}, **d} for d in data]"
   ]
  },
  {
   "cell_type": "code",
   "execution_count": 14,
   "id": "66e5e1f3-1cb9-45a3-b8bc-137da303569d",
   "metadata": {},
   "outputs": [],
   "source": [
    "import json\n",
    "with open(\"records_v1.0.json\", \"w\") as f: \n",
    "    f.write(json.dumps(data))"
   ]
  }
 ],
 "metadata": {
  "kernelspec": {
   "display_name": "Python 3 (ipykernel)",
   "language": "python",
   "name": "python3"
  },
  "language_info": {
   "codemirror_mode": {
    "name": "ipython",
    "version": 3
   },
   "file_extension": ".py",
   "mimetype": "text/x-python",
   "name": "python",
   "nbconvert_exporter": "python",
   "pygments_lexer": "ipython3",
   "version": "3.11.6"
  }
 },
 "nbformat": 4,
 "nbformat_minor": 5
}
