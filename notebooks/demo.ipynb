{
 "cells": [
  {
   "cell_type": "code",
   "execution_count": 1,
   "id": "5f41b968-d836-4f9d-af5d-5c0da8dd109a",
   "metadata": {},
   "outputs": [],
   "source": [
    "import requests\n",
    "import json\n",
    "APIURL=\"https://hfddhc9q1b.execute-api.us-east-1.amazonaws.com\"\n"
   ]
  },
  {
   "cell_type": "code",
   "execution_count": 2,
   "id": "b42fe9de-af17-4ab7-8ba3-f9dd89678ee0",
   "metadata": {
    "scrolled": true
   },
   "outputs": [
    {
     "data": {
      "text/plain": [
       "{'id': 'thread_NIT003jFE08JKtut6Wtbjahf',\n",
       " 'created_at': 1707261522,\n",
       " 'metadata': {},\n",
       " 'object': 'thread'}"
      ]
     },
     "execution_count": 2,
     "metadata": {},
     "output_type": "execute_result"
    }
   ],
   "source": [
    "r = requests.post(f\"{APIURL}/threads\")\n",
    "r.json()"
   ]
  },
  {
   "cell_type": "code",
   "execution_count": 3,
   "id": "ba7f8d66-11c5-43e6-a209-53e579c7f34b",
   "metadata": {},
   "outputs": [],
   "source": [
    "thread_id = r.json()['id']"
   ]
  },
  {
   "cell_type": "code",
   "execution_count": 4,
   "id": "bae0642b-9cc4-43b7-a436-d45304128be7",
   "metadata": {},
   "outputs": [
    {
     "data": {
      "text/plain": [
       "{'id': 'run_Tdspx1p9qA4v2VOULda20p4n',\n",
       " 'assistant_id': 'asst_1hVKmG2hk5vwQEq1WivUz5dv',\n",
       " 'cancelled_at': None,\n",
       " 'completed_at': 1707261527,\n",
       " 'created_at': 1707261523,\n",
       " 'expires_at': None,\n",
       " 'failed_at': None,\n",
       " 'file_ids': [],\n",
       " 'instructions': \"\\n    Role:\\n\\n    You are the AgriFood Data Lab, a helpful assistant supporting World Bank staff in\\n    gathering data and extracting insights to support their work. \\n\\n    Instructions: \\n\\n    1. When the user submits a query, ask them if they want to restrict their results to a specific datatype (one of app, project, dataset, microdataset, and youtube_video) or search across datatypes.\\n\\n    2. With the user's query and datatype (if they have selected one), to call the search_knowledge_base function and return the result to the user. If the user has not selected a datatype, omit the parameter in the function call\\n\\n    3. If the user requests more information on a resource, call the appropriate get function and return the results to the user.\\n\\n    \",\n",
       " 'last_error': None,\n",
       " 'metadata': {},\n",
       " 'model': 'gpt-4-1106-preview',\n",
       " 'object': 'thread.run',\n",
       " 'required_action': None,\n",
       " 'started_at': 1707261523,\n",
       " 'status': 'completed',\n",
       " 'thread_id': 'thread_NIT003jFE08JKtut6Wtbjahf',\n",
       " 'tools': [{'type': 'code_interpreter'},\n",
       "  {'function': {'name': 'get_use_case_details',\n",
       "    'description': 'Get additional information for a use case.',\n",
       "    'parameters': {'type': 'object',\n",
       "     'properties': {'use_case_id': {'type': 'string',\n",
       "       'description': 'The unique identifier of the World Bank use case.'}},\n",
       "     'required': ['use_case_id']}},\n",
       "   'type': 'function'},\n",
       "  {'function': {'name': 'get_data_details',\n",
       "    'description': 'Get additional information for a data',\n",
       "    'parameters': {'type': 'object',\n",
       "     'properties': {'data_unique_id': {'type': 'string',\n",
       "       'description': 'Identifies the data'}},\n",
       "     'required': ['data_unique_id']}},\n",
       "   'type': 'function'},\n",
       "  {'function': {'name': 'get_data_file_details',\n",
       "    'description': 'Get additional information for a data file',\n",
       "    'parameters': {'type': 'object',\n",
       "     'properties': {'data_file_unique_id': {'type': 'string',\n",
       "       'description': 'Identifies the data file'}},\n",
       "     'required': ['data_file_unique_id']}},\n",
       "   'type': 'function'},\n",
       "  {'function': {'name': 'download_data_file',\n",
       "    'description': 'Download a data file.',\n",
       "    'parameters': {'type': 'object',\n",
       "     'properties': {'data_file_unique_id': {'type': 'string',\n",
       "       'description': 'Identifies the data file'}},\n",
       "     'required': ['data_file_unique_id']}},\n",
       "   'type': 'function'},\n",
       "  {'function': {'name': 'open_data_file',\n",
       "    'description': 'Open a CSV or Excel data file in json format for data analysis',\n",
       "    'parameters': {'type': 'object',\n",
       "     'properties': {'data_file_unique_id': {'type': 'string',\n",
       "       'description': 'Identifies the data file'}},\n",
       "     'required': ['data_file_unique_id']}},\n",
       "   'type': 'function'},\n",
       "  {'type': 'code_interpreter'}],\n",
       " 'usage': {'completion_tokens': 38, 'prompt_tokens': 670, 'total_tokens': 708}}"
      ]
     },
     "execution_count": 4,
     "metadata": {},
     "output_type": "execute_result"
    }
   ],
   "source": [
    "r = requests.post(f\"{APIURL}/threads/{thread_id}/messages\", data=json.dumps({\"message\":\"How does drought affect wheat production in Nigeria?\"}))\n",
    "run_id = r.json()['id']\n",
    "r.json()"
   ]
  },
  {
   "cell_type": "code",
   "execution_count": 5,
   "id": "70df86dc-f8c0-47de-ad6b-001d76084b5a",
   "metadata": {},
   "outputs": [
    {
     "data": {
      "text/plain": [
       "{'detail': 'Not Found'}"
      ]
     },
     "execution_count": 5,
     "metadata": {},
     "output_type": "execute_result"
    }
   ],
   "source": [
    "requests.get(f\"{APIURL}/threads/{thread_id}/run/{run_id}/status\").json()"
   ]
  },
  {
   "cell_type": "code",
   "execution_count": 6,
   "id": "6728c9e1-3c4c-4062-8f5e-0b7c828bfe35",
   "metadata": {
    "scrolled": true
   },
   "outputs": [
    {
     "data": {
      "text/plain": [
       "[{'id': 'msg_ehchxfaLaQIJe6fXd8oDN6zZ',\n",
       "  'assistant_id': 'asst_1hVKmG2hk5vwQEq1WivUz5dv',\n",
       "  'content': [{'text': {'annotations': [],\n",
       "     'value': 'Would you like to restrict your results to a specific datatype such as an app, project, dataset, microdataset, or youtube_video, or should I search across all datatypes?'},\n",
       "    'type': 'text'}],\n",
       "  'created_at': 1707261525,\n",
       "  'file_ids': [],\n",
       "  'metadata': {},\n",
       "  'object': 'thread.message',\n",
       "  'role': 'assistant',\n",
       "  'run_id': 'run_Tdspx1p9qA4v2VOULda20p4n',\n",
       "  'thread_id': 'thread_NIT003jFE08JKtut6Wtbjahf'},\n",
       " {'id': 'msg_7GiRnR7ge5osYQnKe0TaRQXl',\n",
       "  'assistant_id': None,\n",
       "  'content': [{'text': {'annotations': [],\n",
       "     'value': 'How does drought affect wheat production in Nigeria?'},\n",
       "    'type': 'text'}],\n",
       "  'created_at': 1707261523,\n",
       "  'file_ids': [],\n",
       "  'metadata': {},\n",
       "  'object': 'thread.message',\n",
       "  'role': 'user',\n",
       "  'run_id': None,\n",
       "  'thread_id': 'thread_NIT003jFE08JKtut6Wtbjahf'}]"
      ]
     },
     "execution_count": 6,
     "metadata": {},
     "output_type": "execute_result"
    }
   ],
   "source": [
    "requests.get(f\"{APIURL}/threads/{thread_id}/messages\").json()"
   ]
  },
  {
   "cell_type": "code",
   "execution_count": 9,
   "id": "ae82e9cd-c74c-48b9-9eea-d735da45aef1",
   "metadata": {
    "scrolled": true
   },
   "outputs": [
    {
     "data": {
      "text/plain": [
       "{'id': 'run_o8JRpOYC0pw8lifV2g1mstg9',\n",
       " 'assistant_id': 'asst_1hVKmG2hk5vwQEq1WivUz5dv',\n",
       " 'cancelled_at': None,\n",
       " 'completed_at': 1707261606,\n",
       " 'created_at': 1707261601,\n",
       " 'expires_at': None,\n",
       " 'failed_at': None,\n",
       " 'file_ids': [],\n",
       " 'instructions': \"\\n    Role:\\n\\n    You are the AgriFood Data Lab, a helpful assistant supporting World Bank staff in\\n    gathering data and extracting insights to support their work. \\n\\n    Instructions: \\n\\n    1. When the user submits a query, ask them if they want to restrict their results to a specific datatype (one of app, project, dataset, microdataset, and youtube_video) or search across datatypes.\\n\\n    2. With the user's query and datatype (if they have selected one), to call the search_knowledge_base function and return the result to the user. If the user has not selected a datatype, omit the parameter in the function call\\n\\n    3. If the user requests more information on a resource, call the appropriate get function and return the results to the user.\\n\\n    \",\n",
       " 'last_error': None,\n",
       " 'metadata': {},\n",
       " 'model': 'gpt-4-1106-preview',\n",
       " 'object': 'thread.run',\n",
       " 'required_action': None,\n",
       " 'started_at': 1707261601,\n",
       " 'status': 'completed',\n",
       " 'thread_id': 'thread_NIT003jFE08JKtut6Wtbjahf',\n",
       " 'tools': [{'type': 'code_interpreter'},\n",
       "  {'function': {'name': 'get_use_case_details',\n",
       "    'description': 'Get additional information for a use case.',\n",
       "    'parameters': {'type': 'object',\n",
       "     'properties': {'use_case_id': {'type': 'string',\n",
       "       'description': 'The unique identifier of the World Bank use case.'}},\n",
       "     'required': ['use_case_id']}},\n",
       "   'type': 'function'},\n",
       "  {'function': {'name': 'get_data_details',\n",
       "    'description': 'Get additional information for a data',\n",
       "    'parameters': {'type': 'object',\n",
       "     'properties': {'data_unique_id': {'type': 'string',\n",
       "       'description': 'Identifies the data'}},\n",
       "     'required': ['data_unique_id']}},\n",
       "   'type': 'function'},\n",
       "  {'function': {'name': 'get_data_file_details',\n",
       "    'description': 'Get additional information for a data file',\n",
       "    'parameters': {'type': 'object',\n",
       "     'properties': {'data_file_unique_id': {'type': 'string',\n",
       "       'description': 'Identifies the data file'}},\n",
       "     'required': ['data_file_unique_id']}},\n",
       "   'type': 'function'},\n",
       "  {'function': {'name': 'download_data_file',\n",
       "    'description': 'Download a data file.',\n",
       "    'parameters': {'type': 'object',\n",
       "     'properties': {'data_file_unique_id': {'type': 'string',\n",
       "       'description': 'Identifies the data file'}},\n",
       "     'required': ['data_file_unique_id']}},\n",
       "   'type': 'function'},\n",
       "  {'function': {'name': 'open_data_file',\n",
       "    'description': 'Open a CSV or Excel data file in json format for data analysis',\n",
       "    'parameters': {'type': 'object',\n",
       "     'properties': {'data_file_unique_id': {'type': 'string',\n",
       "       'description': 'Identifies the data file'}},\n",
       "     'required': ['data_file_unique_id']}},\n",
       "   'type': 'function'},\n",
       "  {'type': 'code_interpreter'}],\n",
       " 'usage': {'completion_tokens': 65,\n",
       "  'prompt_tokens': 1620,\n",
       "  'total_tokens': 1685}}"
      ]
     },
     "execution_count": 9,
     "metadata": {},
     "output_type": "execute_result"
    }
   ],
   "source": [
    "r = requests.post(f\"{APIURL}/threads/{thread_id}/messages\", data=json.dumps({\"message\":\"Please search across datatypes\"}))\n",
    "run_id = r.json()['id']\n",
    "r.json()"
   ]
  },
  {
   "cell_type": "code",
   "execution_count": 10,
   "id": "1ca915d0-ab4d-4094-af86-6a8c709d6f93",
   "metadata": {},
   "outputs": [
    {
     "data": {
      "text/plain": [
       "{'detail': 'Not Found'}"
      ]
     },
     "execution_count": 10,
     "metadata": {},
     "output_type": "execute_result"
    }
   ],
   "source": [
    "requests.get(f\"{APIURL}/threads/{thread_id}/status\").json()"
   ]
  },
  {
   "cell_type": "code",
   "execution_count": 11,
   "id": "12b63c40-2a6b-4dd9-adeb-5a54e3ed27ed",
   "metadata": {},
   "outputs": [
    {
     "data": {
      "text/plain": [
       "[{'id': 'msg_kcSZsOsMp1qq5rATs6rBhnFs',\n",
       "  'assistant_id': 'asst_1hVKmG2hk5vwQEq1WivUz5dv',\n",
       "  'content': [{'text': {'annotations': [],\n",
       "     'value': 'It looks like we have already completed a search across datatypes for your query on how drought affects wheat production in Nigeria. The results retrieved include a dataset, a project, and a YouTube video. Would you like more information on any of these resources, or is there a different query you would like to search for?'},\n",
       "    'type': 'text'}],\n",
       "  'created_at': 1707261603,\n",
       "  'file_ids': [],\n",
       "  'metadata': {},\n",
       "  'object': 'thread.message',\n",
       "  'role': 'assistant',\n",
       "  'run_id': 'run_o8JRpOYC0pw8lifV2g1mstg9',\n",
       "  'thread_id': 'thread_NIT003jFE08JKtut6Wtbjahf'},\n",
       " {'id': 'msg_rJCrCjDwr6nKXspg9XkEyqEv',\n",
       "  'assistant_id': None,\n",
       "  'content': [{'text': {'annotations': [],\n",
       "     'value': 'Please search across datatypes'},\n",
       "    'type': 'text'}],\n",
       "  'created_at': 1707261600,\n",
       "  'file_ids': [],\n",
       "  'metadata': {},\n",
       "  'object': 'thread.message',\n",
       "  'role': 'user',\n",
       "  'run_id': None,\n",
       "  'thread_id': 'thread_NIT003jFE08JKtut6Wtbjahf'},\n",
       " {'id': 'msg_6Wh5K5JsbRCbsNSJImhrljvu',\n",
       "  'assistant_id': 'asst_1hVKmG2hk5vwQEq1WivUz5dv',\n",
       "  'content': [{'text': {'annotations': [],\n",
       "     'value': 'I found several resources that may help you understand how drought affects wheat production in Nigeria:\\n\\n1. A **Dataset** titled \"Analysis of Drought Impact on Wheat Production in Nigeria\" - This dataset contains information on wheat yield, precipitation, and drought occurrences in Nigeria over the past 20 years.\\n   - Unique ID: DATASET_001\\n\\n2. A **Project** called \"Sustainable Wheat Production in Drought-Prone Areas of Nigeria\" - This World Bank-funded project is aimed at developing sustainable farming practices for wheat production in regions of Nigeria affected by drought.\\n   - Unique ID: PROJECT_001\\n\\n3. A **YouTube Video** \"Understanding the Effects of Drought on Wheat Farms in Nigeria\" - The video explains the challenges faced by wheat farmers in Nigeria during periods of reduced rainfall and how it affects wheat production.\\n   - Unique ID: VIDEO_001\\n\\nWould you like more information about any of these resources?'},\n",
       "    'type': 'text'}],\n",
       "  'created_at': 1707261555,\n",
       "  'file_ids': [],\n",
       "  'metadata': {},\n",
       "  'object': 'thread.message',\n",
       "  'role': 'assistant',\n",
       "  'run_id': 'run_6YuDibyHlEI9zBpzvXwWeZwT',\n",
       "  'thread_id': 'thread_NIT003jFE08JKtut6Wtbjahf'},\n",
       " {'id': 'msg_zoEAzIWcpCEJzus7aonIe6En',\n",
       "  'assistant_id': 'asst_1hVKmG2hk5vwQEq1WivUz5dv',\n",
       "  'content': [{'text': {'annotations': [],\n",
       "     'value': 'It appears there was an error when attempting to execute the search. Let me try that again.'},\n",
       "    'type': 'text'}],\n",
       "  'created_at': 1707261539,\n",
       "  'file_ids': [],\n",
       "  'metadata': {},\n",
       "  'object': 'thread.message',\n",
       "  'role': 'assistant',\n",
       "  'run_id': 'run_6YuDibyHlEI9zBpzvXwWeZwT',\n",
       "  'thread_id': 'thread_NIT003jFE08JKtut6Wtbjahf'},\n",
       " {'id': 'msg_sCXNUjFcSSuNPSOnOuxpEohm',\n",
       "  'assistant_id': None,\n",
       "  'content': [{'text': {'annotations': [],\n",
       "     'value': 'Please search across datatypes'},\n",
       "    'type': 'text'}],\n",
       "  'created_at': 1707261529,\n",
       "  'file_ids': [],\n",
       "  'metadata': {},\n",
       "  'object': 'thread.message',\n",
       "  'role': 'user',\n",
       "  'run_id': None,\n",
       "  'thread_id': 'thread_NIT003jFE08JKtut6Wtbjahf'},\n",
       " {'id': 'msg_ehchxfaLaQIJe6fXd8oDN6zZ',\n",
       "  'assistant_id': 'asst_1hVKmG2hk5vwQEq1WivUz5dv',\n",
       "  'content': [{'text': {'annotations': [],\n",
       "     'value': 'Would you like to restrict your results to a specific datatype such as an app, project, dataset, microdataset, or youtube_video, or should I search across all datatypes?'},\n",
       "    'type': 'text'}],\n",
       "  'created_at': 1707261525,\n",
       "  'file_ids': [],\n",
       "  'metadata': {},\n",
       "  'object': 'thread.message',\n",
       "  'role': 'assistant',\n",
       "  'run_id': 'run_Tdspx1p9qA4v2VOULda20p4n',\n",
       "  'thread_id': 'thread_NIT003jFE08JKtut6Wtbjahf'},\n",
       " {'id': 'msg_7GiRnR7ge5osYQnKe0TaRQXl',\n",
       "  'assistant_id': None,\n",
       "  'content': [{'text': {'annotations': [],\n",
       "     'value': 'How does drought affect wheat production in Nigeria?'},\n",
       "    'type': 'text'}],\n",
       "  'created_at': 1707261523,\n",
       "  'file_ids': [],\n",
       "  'metadata': {},\n",
       "  'object': 'thread.message',\n",
       "  'role': 'user',\n",
       "  'run_id': None,\n",
       "  'thread_id': 'thread_NIT003jFE08JKtut6Wtbjahf'}]"
      ]
     },
     "execution_count": 11,
     "metadata": {},
     "output_type": "execute_result"
    }
   ],
   "source": [
    "requests.get(f\"{APIURL}/threads/{thread_id}/messages\").json()"
   ]
  }
 ],
 "metadata": {
  "kernelspec": {
   "display_name": "Python 3 (ipykernel)",
   "language": "python",
   "name": "python3"
  },
  "language_info": {
   "codemirror_mode": {
    "name": "ipython",
    "version": 3
   },
   "file_extension": ".py",
   "mimetype": "text/x-python",
   "name": "python",
   "nbconvert_exporter": "python",
   "pygments_lexer": "ipython3",
   "version": "3.11.6"
  }
 },
 "nbformat": 4,
 "nbformat_minor": 5
}
