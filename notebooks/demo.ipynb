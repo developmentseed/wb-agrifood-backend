{
 "cells": [
  {
   "cell_type": "code",
   "execution_count": 1,
   "id": "5f41b968-d836-4f9d-af5d-5c0da8dd109a",
   "metadata": {},
   "outputs": [],
   "source": [
    "import requests\n",
    "import json\n",
    "APIURL=\"https://hfddhc9q1b.execute-api.us-east-1.amazonaws.com\"\n"
   ]
  },
  {
   "cell_type": "code",
   "execution_count": 2,
   "id": "b42fe9de-af17-4ab7-8ba3-f9dd89678ee0",
   "metadata": {
    "scrolled": true
   },
   "outputs": [
    {
     "data": {
      "text/plain": [
       "{'id': 'thread_L5c8um7NeUFRUjBsCu6nb4Iz',\n",
       " 'created_at': 1707344418,\n",
       " 'metadata': {},\n",
       " 'object': 'thread'}"
      ]
     },
     "execution_count": 2,
     "metadata": {},
     "output_type": "execute_result"
    }
   ],
   "source": [
    "r = requests.post(f\"{APIURL}/threads\")\n",
    "r.json()"
   ]
  },
  {
   "cell_type": "code",
   "execution_count": 3,
   "id": "ba7f8d66-11c5-43e6-a209-53e579c7f34b",
   "metadata": {},
   "outputs": [],
   "source": [
    "thread_id = r.json()['id']"
   ]
  },
  {
   "cell_type": "code",
   "execution_count": 4,
   "id": "bae0642b-9cc4-43b7-a436-d45304128be7",
   "metadata": {},
   "outputs": [
    {
     "data": {
      "text/plain": [
       "{'id': 'run_PovLI8jGuBklxCpkOLe8EVZH',\n",
       " 'assistant_id': 'asst_1RfYf7p2mB3B4gTfISnEkASb',\n",
       " 'cancelled_at': None,\n",
       " 'completed_at': 1707344422,\n",
       " 'created_at': 1707344419,\n",
       " 'expires_at': None,\n",
       " 'failed_at': None,\n",
       " 'file_ids': [],\n",
       " 'instructions': \"\\n    Role:\\n\\n    You are the AgriFood Data Lab, a helpful assistant supporting World Bank staff in gathering data and extracting insights to support their work. \\n\\n    Instructions: \\n\\n    1. When the user submits a query, ask them if they want to restrict their results to a specific datatype (one of app, project, dataset, microdataset, and youtube_video) or search across datatypes.\\n\\n    2. With the user's query and datatype (if they have selected one), to call the search_knowledge_base function and return the results to the user. If the user has not selected a datatype, omit the parameter in the function call. For each result, add a small explanation of why that result might be relevant to the user's query\\n\\n    3. If the user requests more information on a resource, call the appropriate get function and return the results to the user.\\n\\n    \",\n",
       " 'last_error': None,\n",
       " 'metadata': {},\n",
       " 'model': 'gpt-4-1106-preview',\n",
       " 'object': 'thread.run',\n",
       " 'required_action': None,\n",
       " 'started_at': 1707344419,\n",
       " 'status': 'completed',\n",
       " 'thread_id': 'thread_L5c8um7NeUFRUjBsCu6nb4Iz',\n",
       " 'tools': [{'type': 'code_interpreter'},\n",
       "  {'function': {'name': 'get_use_case_details',\n",
       "    'description': 'Get additional information for a use case.',\n",
       "    'parameters': {'type': 'object',\n",
       "     'properties': {'use_case_id': {'type': 'string',\n",
       "       'description': 'The unique identifier of the World Bank use case.'}},\n",
       "     'required': ['use_case_id']}},\n",
       "   'type': 'function'},\n",
       "  {'function': {'name': 'get_data_details',\n",
       "    'description': 'Get additional information for a data',\n",
       "    'parameters': {'type': 'object',\n",
       "     'properties': {'data_unique_id': {'type': 'string',\n",
       "       'description': 'Identifies the data'}},\n",
       "     'required': ['data_unique_id']}},\n",
       "   'type': 'function'},\n",
       "  {'function': {'name': 'get_data_file_details',\n",
       "    'description': 'Get additional information for a data file',\n",
       "    'parameters': {'type': 'object',\n",
       "     'properties': {'data_file_unique_id': {'type': 'string',\n",
       "       'description': 'Identifies the data file'}},\n",
       "     'required': ['data_file_unique_id']}},\n",
       "   'type': 'function'},\n",
       "  {'function': {'name': 'download_data_file',\n",
       "    'description': 'Download a data file.',\n",
       "    'parameters': {'type': 'object',\n",
       "     'properties': {'data_file_unique_id': {'type': 'string',\n",
       "       'description': 'Identifies the data file'}},\n",
       "     'required': ['data_file_unique_id']}},\n",
       "   'type': 'function'},\n",
       "  {'function': {'name': 'open_data_file',\n",
       "    'description': 'Open a CSV or Excel data file in json format for data analysis',\n",
       "    'parameters': {'type': 'object',\n",
       "     'properties': {'data_file_unique_id': {'type': 'string',\n",
       "       'description': 'Identifies the data file'}},\n",
       "     'required': ['data_file_unique_id']}},\n",
       "   'type': 'function'},\n",
       "  {'type': 'code_interpreter'}],\n",
       " 'usage': {'completion_tokens': 39, 'prompt_tokens': 689, 'total_tokens': 728}}"
      ]
     },
     "execution_count": 4,
     "metadata": {},
     "output_type": "execute_result"
    }
   ],
   "source": [
    "r = requests.post(f\"{APIURL}/threads/{thread_id}/messages\", data=json.dumps({\"message\":\"How does drought affect wheat production in Nigeria?\"}))\n",
    "run_id = r.json()['id']\n",
    "r.json()"
   ]
  },
  {
   "cell_type": "code",
   "execution_count": 5,
   "id": "70df86dc-f8c0-47de-ad6b-001d76084b5a",
   "metadata": {},
   "outputs": [
    {
     "data": {
      "text/plain": [
       "{'status': 'completed'}"
      ]
     },
     "execution_count": 5,
     "metadata": {},
     "output_type": "execute_result"
    }
   ],
   "source": [
    "requests.get(f\"{APIURL}/threads/{thread_id}/runs/{run_id}/status\").json()"
   ]
  },
  {
   "cell_type": "code",
   "execution_count": 6,
   "id": "6728c9e1-3c4c-4062-8f5e-0b7c828bfe35",
   "metadata": {
    "scrolled": true
   },
   "outputs": [
    {
     "data": {
      "text/plain": [
       "[{'id': 'msg_1nEfrCM3BzccnUn5RzliT2g8',\n",
       "  'assistant_id': 'asst_1RfYf7p2mB3B4gTfISnEkASb',\n",
       "  'content': [{'text': {'annotations': [],\n",
       "     'value': 'Would you like to restrict your results to a specific datatype such as an app, project, dataset, microdataset, or youtube_video, or would you prefer to search across datatypes?'},\n",
       "    'type': 'text'}],\n",
       "  'created_at': 1707344420,\n",
       "  'file_ids': [],\n",
       "  'metadata': {},\n",
       "  'object': 'thread.message',\n",
       "  'role': 'assistant',\n",
       "  'run_id': 'run_PovLI8jGuBklxCpkOLe8EVZH',\n",
       "  'thread_id': 'thread_L5c8um7NeUFRUjBsCu6nb4Iz'},\n",
       " {'id': 'msg_uOJIQ2SXIAxxhICxTKadBEUM',\n",
       "  'assistant_id': None,\n",
       "  'content': [{'text': {'annotations': [],\n",
       "     'value': 'How does drought affect wheat production in Nigeria?'},\n",
       "    'type': 'text'}],\n",
       "  'created_at': 1707344419,\n",
       "  'file_ids': [],\n",
       "  'metadata': {},\n",
       "  'object': 'thread.message',\n",
       "  'role': 'user',\n",
       "  'run_id': None,\n",
       "  'thread_id': 'thread_L5c8um7NeUFRUjBsCu6nb4Iz'}]"
      ]
     },
     "execution_count": 6,
     "metadata": {},
     "output_type": "execute_result"
    }
   ],
   "source": [
    "requests.get(f\"{APIURL}/threads/{thread_id}/messages\").json()"
   ]
  },
  {
   "cell_type": "code",
   "execution_count": 7,
   "id": "ae82e9cd-c74c-48b9-9eea-d735da45aef1",
   "metadata": {
    "scrolled": true
   },
   "outputs": [
    {
     "data": {
      "text/plain": [
       "{'id': 'run_efK5NKaKU39XxerTrv6mRvjI',\n",
       " 'assistant_id': 'asst_1RfYf7p2mB3B4gTfISnEkASb',\n",
       " 'cancelled_at': None,\n",
       " 'completed_at': None,\n",
       " 'created_at': 1707344424,\n",
       " 'expires_at': 1707345024,\n",
       " 'failed_at': None,\n",
       " 'file_ids': [],\n",
       " 'instructions': \"\\n    Role:\\n\\n    You are the AgriFood Data Lab, a helpful assistant supporting World Bank staff in gathering data and extracting insights to support their work. \\n\\n    Instructions: \\n\\n    1. When the user submits a query, ask them if they want to restrict their results to a specific datatype (one of app, project, dataset, microdataset, and youtube_video) or search across datatypes.\\n\\n    2. With the user's query and datatype (if they have selected one), to call the search_knowledge_base function and return the results to the user. If the user has not selected a datatype, omit the parameter in the function call. For each result, add a small explanation of why that result might be relevant to the user's query\\n\\n    3. If the user requests more information on a resource, call the appropriate get function and return the results to the user.\\n\\n    \",\n",
       " 'last_error': None,\n",
       " 'metadata': {},\n",
       " 'model': 'gpt-4-1106-preview',\n",
       " 'object': 'thread.run',\n",
       " 'required_action': {'submit_tool_outputs': {'tool_calls': [{'id': 'call_bi8XZtH3as3aglfDAZM6JXIi',\n",
       "     'function': {'arguments': '{\"query\":\"How does drought affect wheat production in Nigeria?\"}',\n",
       "      'name': 'search_knowledge_base'},\n",
       "     'type': 'function'}]},\n",
       "  'type': 'submit_tool_outputs'},\n",
       " 'started_at': 1707344425,\n",
       " 'status': 'requires_action',\n",
       " 'thread_id': 'thread_L5c8um7NeUFRUjBsCu6nb4Iz',\n",
       " 'tools': [{'type': 'code_interpreter'},\n",
       "  {'function': {'name': 'get_use_case_details',\n",
       "    'description': 'Get additional information for a use case.',\n",
       "    'parameters': {'type': 'object',\n",
       "     'properties': {'use_case_id': {'type': 'string',\n",
       "       'description': 'The unique identifier of the World Bank use case.'}},\n",
       "     'required': ['use_case_id']}},\n",
       "   'type': 'function'},\n",
       "  {'function': {'name': 'get_data_details',\n",
       "    'description': 'Get additional information for a data',\n",
       "    'parameters': {'type': 'object',\n",
       "     'properties': {'data_unique_id': {'type': 'string',\n",
       "       'description': 'Identifies the data'}},\n",
       "     'required': ['data_unique_id']}},\n",
       "   'type': 'function'},\n",
       "  {'function': {'name': 'get_data_file_details',\n",
       "    'description': 'Get additional information for a data file',\n",
       "    'parameters': {'type': 'object',\n",
       "     'properties': {'data_file_unique_id': {'type': 'string',\n",
       "       'description': 'Identifies the data file'}},\n",
       "     'required': ['data_file_unique_id']}},\n",
       "   'type': 'function'},\n",
       "  {'function': {'name': 'download_data_file',\n",
       "    'description': 'Download a data file.',\n",
       "    'parameters': {'type': 'object',\n",
       "     'properties': {'data_file_unique_id': {'type': 'string',\n",
       "       'description': 'Identifies the data file'}},\n",
       "     'required': ['data_file_unique_id']}},\n",
       "   'type': 'function'},\n",
       "  {'function': {'name': 'open_data_file',\n",
       "    'description': 'Open a CSV or Excel data file in json format for data analysis',\n",
       "    'parameters': {'type': 'object',\n",
       "     'properties': {'data_file_unique_id': {'type': 'string',\n",
       "       'description': 'Identifies the data file'}},\n",
       "     'required': ['data_file_unique_id']}},\n",
       "   'type': 'function'},\n",
       "  {'type': 'code_interpreter'}],\n",
       " 'usage': None}"
      ]
     },
     "execution_count": 7,
     "metadata": {},
     "output_type": "execute_result"
    }
   ],
   "source": [
    "r = requests.post(f\"{APIURL}/threads/{thread_id}/messages\", data=json.dumps({\"message\":\"Please search across datatypes\"}))\n",
    "run_id = r.json()['id']\n",
    "r.json()"
   ]
  },
  {
   "cell_type": "code",
   "execution_count": 11,
   "id": "1ca915d0-ab4d-4094-af86-6a8c709d6f93",
   "metadata": {},
   "outputs": [
    {
     "data": {
      "text/plain": [
       "{'status': 'completed'}"
      ]
     },
     "execution_count": 11,
     "metadata": {},
     "output_type": "execute_result"
    }
   ],
   "source": [
    "requests.get(f\"{APIURL}/threads/{thread_id}/runs/{run_id}/status\").json()"
   ]
  },
  {
   "cell_type": "code",
   "execution_count": 12,
   "id": "12b63c40-2a6b-4dd9-adeb-5a54e3ed27ed",
   "metadata": {},
   "outputs": [
    {
     "data": {
      "text/plain": [
       "[{'id': 'msg_vANQ5ihUavSj1lXn29otbzlg',\n",
       "  'assistant_id': 'asst_1RfYf7p2mB3B4gTfISnEkASb',\n",
       "  'content': [{'text': {'annotations': [],\n",
       "     'value': \"Here are the results that might be relevant to your query about how drought affects wheat production in Nigeria:\\n\\n1. **Drought Prone Areas Project** (Unique ID: P009692) - This project may have data or insights specific to drought-prone areas, which could include information on wheat production in such conditions.\\n   \\n2. **Project to mitigate the negative effects of the 2012 drought** (Unique ID: P143202) - It aimed to help maintain the corn and wheat productive capability in the most affected districts, which indicates a direct link between drought and wheat production.\\n\\n3. **Improve the quality of agricultural data in Nigeria** (Unique IDs: P121616 and P155616) - These projects aim to enhance agricultural data quality in Nigeria, which might provide insights into drought effects on wheat production through improved data.\\n\\n4. **Nigeria Irrigation Sites** - Although a unique ID is not provided, this information may involve irrigation practices in response to drought conditions, which can impact wheat production.\\n\\n5. **Drought Assistance Project** (Unique ID: P009992) - This project may contain strategies or outcomes related to drought assistance, potentially relevant to wheat production during drought periods.\\n\\n6. **Project addressing 2002/03 drought emergency in Ethiopia** (Unique ID: P081773) - While focused on Ethiopia, this project includes measures taken to mitigate the impacts of drought, which could be analogous to the situation in Nigeria, particularly in relation to maintaining agricultural production and livelihoods during droughts.\\n\\nIf you would like more information on any of these resources, please let me know the unique ID or the name of the resource you're interested in, and I can provide more details.\"},\n",
       "    'type': 'text'}],\n",
       "  'created_at': 1707344431,\n",
       "  'file_ids': [],\n",
       "  'metadata': {},\n",
       "  'object': 'thread.message',\n",
       "  'role': 'assistant',\n",
       "  'run_id': 'run_efK5NKaKU39XxerTrv6mRvjI',\n",
       "  'thread_id': 'thread_L5c8um7NeUFRUjBsCu6nb4Iz'},\n",
       " {'id': 'msg_Isx3nZmqhwexzHrMzevhTeFM',\n",
       "  'assistant_id': None,\n",
       "  'content': [{'text': {'annotations': [],\n",
       "     'value': 'Please search across datatypes'},\n",
       "    'type': 'text'}],\n",
       "  'created_at': 1707344424,\n",
       "  'file_ids': [],\n",
       "  'metadata': {},\n",
       "  'object': 'thread.message',\n",
       "  'role': 'user',\n",
       "  'run_id': None,\n",
       "  'thread_id': 'thread_L5c8um7NeUFRUjBsCu6nb4Iz'},\n",
       " {'id': 'msg_1nEfrCM3BzccnUn5RzliT2g8',\n",
       "  'assistant_id': 'asst_1RfYf7p2mB3B4gTfISnEkASb',\n",
       "  'content': [{'text': {'annotations': [],\n",
       "     'value': 'Would you like to restrict your results to a specific datatype such as an app, project, dataset, microdataset, or youtube_video, or would you prefer to search across datatypes?'},\n",
       "    'type': 'text'}],\n",
       "  'created_at': 1707344420,\n",
       "  'file_ids': [],\n",
       "  'metadata': {},\n",
       "  'object': 'thread.message',\n",
       "  'role': 'assistant',\n",
       "  'run_id': 'run_PovLI8jGuBklxCpkOLe8EVZH',\n",
       "  'thread_id': 'thread_L5c8um7NeUFRUjBsCu6nb4Iz'},\n",
       " {'id': 'msg_uOJIQ2SXIAxxhICxTKadBEUM',\n",
       "  'assistant_id': None,\n",
       "  'content': [{'text': {'annotations': [],\n",
       "     'value': 'How does drought affect wheat production in Nigeria?'},\n",
       "    'type': 'text'}],\n",
       "  'created_at': 1707344419,\n",
       "  'file_ids': [],\n",
       "  'metadata': {},\n",
       "  'object': 'thread.message',\n",
       "  'role': 'user',\n",
       "  'run_id': None,\n",
       "  'thread_id': 'thread_L5c8um7NeUFRUjBsCu6nb4Iz'}]"
      ]
     },
     "execution_count": 12,
     "metadata": {},
     "output_type": "execute_result"
    }
   ],
   "source": [
    "requests.get(f\"{APIURL}/threads/{thread_id}/messages\").json()"
   ]
  }
 ],
 "metadata": {
  "kernelspec": {
   "display_name": "Python 3 (ipykernel)",
   "language": "python",
   "name": "python3"
  },
  "language_info": {
   "codemirror_mode": {
    "name": "ipython",
    "version": 3
   },
   "file_extension": ".py",
   "mimetype": "text/x-python",
   "name": "python",
   "nbconvert_exporter": "python",
   "pygments_lexer": "ipython3",
   "version": "3.11.6"
  }
 },
 "nbformat": 4,
 "nbformat_minor": 5
}
