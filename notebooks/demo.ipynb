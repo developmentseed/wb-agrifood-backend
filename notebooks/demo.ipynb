{
 "cells": [
  {
   "cell_type": "code",
   "execution_count": 1,
   "id": "5f41b968-d836-4f9d-af5d-5c0da8dd109a",
   "metadata": {},
   "outputs": [],
   "source": [
    "import requests\n",
    "import json\n",
    "import time\n",
    "APIURL=\"https://hfddhc9q1b.execute-api.us-east-1.amazonaws.com\""
   ]
  },
  {
   "cell_type": "code",
   "execution_count": 2,
   "id": "7cfd3790-cfd6-4fcd-b848-3ff8dd122476",
   "metadata": {},
   "outputs": [],
   "source": [
    "def wait(thread_id, run_id): \n",
    "    print(\"Waiting for complete...\")\n",
    "    status = \"\"\n",
    "    count = 0\n",
    "    while status != \"completed\": \n",
    "        count += 1\n",
    "        time.sleep(2)\n",
    "        status = requests.get(f\"{APIURL}/threads/{thread_id}/runs/{run_id}/status\").json()[\"status\"]\n",
    "    print(f\"Complete! Took ~{count * 2} seconds\")\n",
    "        "
   ]
  },
  {
   "cell_type": "code",
   "execution_count": 3,
   "id": "b42fe9de-af17-4ab7-8ba3-f9dd89678ee0",
   "metadata": {},
   "outputs": [
    {
     "data": {
      "text/plain": [
       "{'id': 'thread_eKIDYX3sjVlHtpNv4QgWTcYe',\n",
       " 'created_at': 1709053612,\n",
       " 'metadata': {},\n",
       " 'object': 'thread'}"
      ]
     },
     "execution_count": 3,
     "metadata": {},
     "output_type": "execute_result"
    }
   ],
   "source": [
    "r = requests.post(f\"{APIURL}/threads\")\n",
    "r.json()"
   ]
  },
  {
   "cell_type": "code",
   "execution_count": 4,
   "id": "ba7f8d66-11c5-43e6-a209-53e579c7f34b",
   "metadata": {},
   "outputs": [],
   "source": [
    "thread_id = r.json()['id']"
   ]
  },
  {
   "cell_type": "code",
   "execution_count": 5,
   "id": "bae0642b-9cc4-43b7-a436-d45304128be7",
   "metadata": {
    "scrolled": true
   },
   "outputs": [
    {
     "data": {
      "text/plain": [
       "{'id': 'run_2BPpVAcUPFp8F2puUrYcumkK',\n",
       " 'assistant_id': 'asst_zMdCLFQEC6igH3d9QV1isPYs',\n",
       " 'cancelled_at': None,\n",
       " 'completed_at': None,\n",
       " 'created_at': 1709053613,\n",
       " 'expires_at': 1709054213,\n",
       " 'failed_at': None,\n",
       " 'file_ids': [],\n",
       " 'instructions': '\\n    Role:\\n\\n    You are the AgriFood Data Lab, a helpful assistant supporting World Bank staff in gathering data and extracting insights to support their work. \\n    Instructions:\\n    1. When the user submits a query, ask them if they want to restrict their results to a specific datatype (one of app, project, dataset, microdataset, and youtube_video) or search across datatypes. \\n    2. If the user has specified a dataype, use the datatype from the following list: app, project, dataset, microdataset and youtube_video, which most closely the user\\'s requested datatype and call the search_knowledge_base function with the user\\'s query and datatype. If the user chooses to search across datatypes, omit the datatype parameter and call the search_knowledge_base function with just the user\\'s query. The result of the function will be a json encoded list of dictionaries. For each result, generate an explanation of why that result is relevant to the user\\'s query, based on the value of the \"text_to_embed\" key. Add this explanation to the result under a key named \"explanation\". Return this list to the user as a json encoded list of dictionaries. Important: do not return plain text to the user. Return a json encoded list of dictionaries. Do not include any markdown formatting elements, such as \"```json```\" and \"\\\\n\", or any other additional text)\\n    3. If the user requests more information on a resource, call the appropriate get function and return the results to the user.\\n    ',\n",
       " 'last_error': None,\n",
       " 'metadata': {},\n",
       " 'model': 'gpt-4-1106-preview',\n",
       " 'object': 'thread.run',\n",
       " 'required_action': None,\n",
       " 'started_at': None,\n",
       " 'status': 'queued',\n",
       " 'thread_id': 'thread_eKIDYX3sjVlHtpNv4QgWTcYe',\n",
       " 'tools': [{'function': {'name': 'search_knowledge_base',\n",
       "    'description': \"Search for the most relevant data from the Data Lab's knowledge base.\",\n",
       "    'parameters': {'type': 'object',\n",
       "     'properties': {'query': {'type': 'string',\n",
       "       'description': \"The user's query summarized from the conversation.\"},\n",
       "      'datatype': {'type': 'string',\n",
       "       'description': \"The vector type to search (one of: 'app', 'project', 'dataset', 'microdataset' or 'youtube_video').\"}},\n",
       "     'required': ['query']}},\n",
       "   'type': 'function'},\n",
       "  {'function': {'name': 'get_use_case_details',\n",
       "    'description': 'Get additional information for a use case.',\n",
       "    'parameters': {'type': 'object',\n",
       "     'properties': {'use_case_id': {'type': 'string',\n",
       "       'description': 'The unique identifier of the World Bank use case.'}},\n",
       "     'required': ['use_case_id']}},\n",
       "   'type': 'function'},\n",
       "  {'function': {'name': 'get_data_details',\n",
       "    'description': 'Get additional information for a data',\n",
       "    'parameters': {'type': 'object',\n",
       "     'properties': {'data_unique_id': {'type': 'string',\n",
       "       'description': 'Identifies the data'}},\n",
       "     'required': ['data_unique_id']}},\n",
       "   'type': 'function'},\n",
       "  {'function': {'name': 'get_data_file_details',\n",
       "    'description': 'Get additional information for a data file',\n",
       "    'parameters': {'type': 'object',\n",
       "     'properties': {'data_file_unique_id': {'type': 'string',\n",
       "       'description': 'Identifies the data file'}},\n",
       "     'required': ['data_file_unique_id']}},\n",
       "   'type': 'function'},\n",
       "  {'function': {'name': 'download_data_file',\n",
       "    'description': 'Download a data file.',\n",
       "    'parameters': {'type': 'object',\n",
       "     'properties': {'data_file_unique_id': {'type': 'string',\n",
       "       'description': 'Identifies the data file'}},\n",
       "     'required': ['data_file_unique_id']}},\n",
       "   'type': 'function'},\n",
       "  {'function': {'name': 'open_data_file',\n",
       "    'description': 'Open a CSV or Excel data file in json format for data analysis',\n",
       "    'parameters': {'type': 'object',\n",
       "     'properties': {'data_file_unique_id': {'type': 'string',\n",
       "       'description': 'Identifies the data file'}},\n",
       "     'required': ['data_file_unique_id']}},\n",
       "   'type': 'function'},\n",
       "  {'type': 'code_interpreter'}],\n",
       " 'usage': None}"
      ]
     },
     "execution_count": 5,
     "metadata": {},
     "output_type": "execute_result"
    }
   ],
   "source": [
    "message = \"How does drought affect wheat production in North Africa?\"\n",
    "r = requests.post(f\"{APIURL}/threads/{thread_id}/messages\", data=json.dumps({\"message\":message}))\n",
    "run_id = r.json()['id']\n",
    "r.json()"
   ]
  },
  {
   "cell_type": "code",
   "execution_count": 6,
   "id": "70df86dc-f8c0-47de-ad6b-001d76084b5a",
   "metadata": {},
   "outputs": [
    {
     "name": "stdout",
     "output_type": "stream",
     "text": [
      "Waiting for complete...\n",
      "Complete! Took ~4 seconds\n"
     ]
    },
    {
     "data": {
      "text/plain": [
       "[{'id': 'msg_Va1rg7Ch929ulcxNqPvYMLdf',\n",
       "  'assistant_id': 'asst_zMdCLFQEC6igH3d9QV1isPYs',\n",
       "  'content': [{'text': {'annotations': [],\n",
       "     'value': 'Would you like to restrict your results to a specific datatype (app, project, dataset, microdataset, youtube_video), or should I search across all datatypes?'},\n",
       "    'type': 'text'}],\n",
       "  'created_at': 1709053614,\n",
       "  'file_ids': [],\n",
       "  'metadata': {},\n",
       "  'object': 'thread.message',\n",
       "  'role': 'assistant',\n",
       "  'run_id': 'run_2BPpVAcUPFp8F2puUrYcumkK',\n",
       "  'thread_id': 'thread_eKIDYX3sjVlHtpNv4QgWTcYe'},\n",
       " {'id': 'msg_a3duBlWES5YLXzy2lR5Qysp7',\n",
       "  'assistant_id': None,\n",
       "  'content': [{'text': {'annotations': [],\n",
       "     'value': 'How does drought affect wheat production in North Africa?'},\n",
       "    'type': 'text'}],\n",
       "  'created_at': 1709053613,\n",
       "  'file_ids': [],\n",
       "  'metadata': {},\n",
       "  'object': 'thread.message',\n",
       "  'role': 'user',\n",
       "  'run_id': None,\n",
       "  'thread_id': 'thread_eKIDYX3sjVlHtpNv4QgWTcYe'}]"
      ]
     },
     "execution_count": 6,
     "metadata": {},
     "output_type": "execute_result"
    }
   ],
   "source": [
    "wait(thread_id, run_id)\n",
    "requests.get(f\"{APIURL}/threads/{thread_id}/messages\").json()"
   ]
  },
  {
   "cell_type": "code",
   "execution_count": 7,
   "id": "ae82e9cd-c74c-48b9-9eea-d735da45aef1",
   "metadata": {
    "scrolled": true
   },
   "outputs": [
    {
     "data": {
      "text/plain": [
       "{'id': 'run_G4gzwb6DLwYfTSbbnMKU9hfJ',\n",
       " 'assistant_id': 'asst_zMdCLFQEC6igH3d9QV1isPYs',\n",
       " 'cancelled_at': None,\n",
       " 'completed_at': None,\n",
       " 'created_at': 1709053619,\n",
       " 'expires_at': 1709054219,\n",
       " 'failed_at': None,\n",
       " 'file_ids': [],\n",
       " 'instructions': '\\n    Role:\\n\\n    You are the AgriFood Data Lab, a helpful assistant supporting World Bank staff in gathering data and extracting insights to support their work. \\n    Instructions:\\n    1. When the user submits a query, ask them if they want to restrict their results to a specific datatype (one of app, project, dataset, microdataset, and youtube_video) or search across datatypes. \\n    2. If the user has specified a dataype, use the datatype from the following list: app, project, dataset, microdataset and youtube_video, which most closely the user\\'s requested datatype and call the search_knowledge_base function with the user\\'s query and datatype. If the user chooses to search across datatypes, omit the datatype parameter and call the search_knowledge_base function with just the user\\'s query. The result of the function will be a json encoded list of dictionaries. For each result, generate an explanation of why that result is relevant to the user\\'s query, based on the value of the \"text_to_embed\" key. Add this explanation to the result under a key named \"explanation\". Return this list to the user as a json encoded list of dictionaries. Important: do not return plain text to the user. Return a json encoded list of dictionaries. Do not include any markdown formatting elements, such as \"```json```\" and \"\\\\n\", or any other additional text)\\n    3. If the user requests more information on a resource, call the appropriate get function and return the results to the user.\\n    ',\n",
       " 'last_error': None,\n",
       " 'metadata': {},\n",
       " 'model': 'gpt-4-1106-preview',\n",
       " 'object': 'thread.run',\n",
       " 'required_action': None,\n",
       " 'started_at': None,\n",
       " 'status': 'queued',\n",
       " 'thread_id': 'thread_eKIDYX3sjVlHtpNv4QgWTcYe',\n",
       " 'tools': [{'function': {'name': 'search_knowledge_base',\n",
       "    'description': \"Search for the most relevant data from the Data Lab's knowledge base.\",\n",
       "    'parameters': {'type': 'object',\n",
       "     'properties': {'query': {'type': 'string',\n",
       "       'description': \"The user's query summarized from the conversation.\"},\n",
       "      'datatype': {'type': 'string',\n",
       "       'description': \"The vector type to search (one of: 'app', 'project', 'dataset', 'microdataset' or 'youtube_video').\"}},\n",
       "     'required': ['query']}},\n",
       "   'type': 'function'},\n",
       "  {'function': {'name': 'get_use_case_details',\n",
       "    'description': 'Get additional information for a use case.',\n",
       "    'parameters': {'type': 'object',\n",
       "     'properties': {'use_case_id': {'type': 'string',\n",
       "       'description': 'The unique identifier of the World Bank use case.'}},\n",
       "     'required': ['use_case_id']}},\n",
       "   'type': 'function'},\n",
       "  {'function': {'name': 'get_data_details',\n",
       "    'description': 'Get additional information for a data',\n",
       "    'parameters': {'type': 'object',\n",
       "     'properties': {'data_unique_id': {'type': 'string',\n",
       "       'description': 'Identifies the data'}},\n",
       "     'required': ['data_unique_id']}},\n",
       "   'type': 'function'},\n",
       "  {'function': {'name': 'get_data_file_details',\n",
       "    'description': 'Get additional information for a data file',\n",
       "    'parameters': {'type': 'object',\n",
       "     'properties': {'data_file_unique_id': {'type': 'string',\n",
       "       'description': 'Identifies the data file'}},\n",
       "     'required': ['data_file_unique_id']}},\n",
       "   'type': 'function'},\n",
       "  {'function': {'name': 'download_data_file',\n",
       "    'description': 'Download a data file.',\n",
       "    'parameters': {'type': 'object',\n",
       "     'properties': {'data_file_unique_id': {'type': 'string',\n",
       "       'description': 'Identifies the data file'}},\n",
       "     'required': ['data_file_unique_id']}},\n",
       "   'type': 'function'},\n",
       "  {'function': {'name': 'open_data_file',\n",
       "    'description': 'Open a CSV or Excel data file in json format for data analysis',\n",
       "    'parameters': {'type': 'object',\n",
       "     'properties': {'data_file_unique_id': {'type': 'string',\n",
       "       'description': 'Identifies the data file'}},\n",
       "     'required': ['data_file_unique_id']}},\n",
       "   'type': 'function'},\n",
       "  {'type': 'code_interpreter'}],\n",
       " 'usage': None}"
      ]
     },
     "execution_count": 7,
     "metadata": {},
     "output_type": "execute_result"
    }
   ],
   "source": [
    "message = \"Please search for projects\"\n",
    "r = requests.post(f\"{APIURL}/threads/{thread_id}/messages\", data=json.dumps({\"message\":message}))\n",
    "run_id = r.json()['id']\n",
    "r.json()"
   ]
  },
  {
   "cell_type": "code",
   "execution_count": 8,
   "id": "1ca915d0-ab4d-4094-af86-6a8c709d6f93",
   "metadata": {},
   "outputs": [
    {
     "name": "stdout",
     "output_type": "stream",
     "text": [
      "Waiting for complete...\n",
      "Complete! Took ~80 seconds\n"
     ]
    },
    {
     "data": {
      "text/plain": [
       "[{'id': 'msg_2LUmKMWbv0WD0XiixUu83Pw1',\n",
       "  'assistant_id': 'asst_zMdCLFQEC6igH3d9QV1isPYs',\n",
       "  'content': [{'text': {'annotations': [],\n",
       "     'value': '```json\\n[\\n    {\\n        \"text_to_embed\": \"Drought Prone Areas Project\",\\n        \"name\": \"Drought Prone Areas Project\",\\n        \"id\": \"P009692\",\\n        \"type\": \"project\",\\n        \"_distance\": 0.4829559326171875,\\n        \"explanation\": \"The project \\'Drought Prone Areas Project\\' likely addresses issues related to drought, which could include its impact on wheat production.\"\\n    },\\n    {\\n        \"text_to_embed\": \"Drought Assistance Project\",\\n        \"name\": \"Drought Assistance Project\",\\n        \"id\": \"P009992\",\\n        \"type\": \"project\",\\n        \"_distance\": 0.5334590077400208,\\n        \"explanation\": \"The project \\'Drought Assistance Project\\' likely addresses issues related to drought, which could include its impact on wheat production.\"\\n    },\\n    {\\n        \"text_to_embed\": \"The Project Development Objective is to mitigate the negative effects of the 2012 drought by helping maintain the corn and wheat productive capability and prevent livestock de-stocking of farmers in the most affected districts.\",\\n        \"name\": \"Emergency Agriculture Support Project\",\\n        \"description\": \"The Project Development Objective is to mitigate the negative effects of the 2012 drought by helping maintain the corn and wheat productive capability and prevent livestock de-stocking of farmers in the most affected districts.\",\\n        \"id\": \"P143202\",\\n        \"type\": \"project\",\\n        \"_distance\": 0.5409190058708191,\\n        \"explanation\": \"The project \\'Emergency Agriculture Support Project\\' directly mentions mitigating negative effects on wheat production due to drought.\"\\n    },\\n    {\\n        \"text_to_embed\": \"Drought Areas Rehabilitation Project\",\\n        \"name\": \"Drought Areas Rehabilitation Project\",\\n        \"id\": \"P000683\",\\n        \"type\": \"project\",\\n        \"_distance\": 0.5420032739639282,\\n        \"explanation\": \"The project \\'Drought Areas Rehabilitation Project\\' likely addresses issues related to drought, which could include its impact on wheat production.\"\\n    },\\n    {\\n        \"text_to_embed\": \"REGIONAL DROUGHT REL\",\\n        \"name\": \"REGIONAL DROUGHT REL\",\\n        \"id\": \"P002286\",\\n        \"type\": \"project\",\\n        \"_distance\": 0.5530436038970947,\\n        \"explanation\": \"The project \\'REGIONAL DROUGHT REL\\' likely addresses issues related to drought, which could include its impact on wheat production.\"\\n    }\\n]\\n```'},\n",
       "    'type': 'text'}],\n",
       "  'created_at': 1709053662,\n",
       "  'file_ids': [],\n",
       "  'metadata': {},\n",
       "  'object': 'thread.message',\n",
       "  'role': 'assistant',\n",
       "  'run_id': 'run_G4gzwb6DLwYfTSbbnMKU9hfJ',\n",
       "  'thread_id': 'thread_eKIDYX3sjVlHtpNv4QgWTcYe'},\n",
       " {'id': 'msg_O22qKYR6YBDupSNRu1Xe3y0C',\n",
       "  'assistant_id': None,\n",
       "  'content': [{'text': {'annotations': [],\n",
       "     'value': 'Please search for projects'},\n",
       "    'type': 'text'}],\n",
       "  'created_at': 1709053618,\n",
       "  'file_ids': [],\n",
       "  'metadata': {},\n",
       "  'object': 'thread.message',\n",
       "  'role': 'user',\n",
       "  'run_id': None,\n",
       "  'thread_id': 'thread_eKIDYX3sjVlHtpNv4QgWTcYe'},\n",
       " {'id': 'msg_Va1rg7Ch929ulcxNqPvYMLdf',\n",
       "  'assistant_id': 'asst_zMdCLFQEC6igH3d9QV1isPYs',\n",
       "  'content': [{'text': {'annotations': [],\n",
       "     'value': 'Would you like to restrict your results to a specific datatype (app, project, dataset, microdataset, youtube_video), or should I search across all datatypes?'},\n",
       "    'type': 'text'}],\n",
       "  'created_at': 1709053614,\n",
       "  'file_ids': [],\n",
       "  'metadata': {},\n",
       "  'object': 'thread.message',\n",
       "  'role': 'assistant',\n",
       "  'run_id': 'run_2BPpVAcUPFp8F2puUrYcumkK',\n",
       "  'thread_id': 'thread_eKIDYX3sjVlHtpNv4QgWTcYe'},\n",
       " {'id': 'msg_a3duBlWES5YLXzy2lR5Qysp7',\n",
       "  'assistant_id': None,\n",
       "  'content': [{'text': {'annotations': [],\n",
       "     'value': 'How does drought affect wheat production in North Africa?'},\n",
       "    'type': 'text'}],\n",
       "  'created_at': 1709053613,\n",
       "  'file_ids': [],\n",
       "  'metadata': {},\n",
       "  'object': 'thread.message',\n",
       "  'role': 'user',\n",
       "  'run_id': None,\n",
       "  'thread_id': 'thread_eKIDYX3sjVlHtpNv4QgWTcYe'}]"
      ]
     },
     "execution_count": 8,
     "metadata": {},
     "output_type": "execute_result"
    }
   ],
   "source": [
    "wait(thread_id, run_id)\n",
    "requests.get(f\"{APIURL}/threads/{thread_id}/messages\").json()"
   ]
  },
  {
   "cell_type": "code",
   "execution_count": 9,
   "id": "593226ec-cedf-412d-99c5-226356e6f43b",
   "metadata": {},
   "outputs": [
    {
     "data": {
      "text/plain": [
       "'completed'"
      ]
     },
     "execution_count": 9,
     "metadata": {},
     "output_type": "execute_result"
    }
   ],
   "source": [
    "requests.get(f\"{APIURL}/threads/{thread_id}/runs/{run_id}/status\").json()[\"status\"]"
   ]
  }
 ],
 "metadata": {
  "kernelspec": {
   "display_name": "Python 3 (ipykernel)",
   "language": "python",
   "name": "python3"
  },
  "language_info": {
   "codemirror_mode": {
    "name": "ipython",
    "version": 3
   },
   "file_extension": ".py",
   "mimetype": "text/x-python",
   "name": "python",
   "nbconvert_exporter": "python",
   "pygments_lexer": "ipython3",
   "version": "3.11.6"
  }
 },
 "nbformat": 4,
 "nbformat_minor": 5
}
